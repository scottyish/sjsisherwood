{
 "cells": [
  {
   "cell_type": "markdown",
   "metadata": {},
   "source": [
    "Notebook to translate notion website to style of personal website"
   ]
  },
  {
   "cell_type": "code",
   "execution_count": 8,
   "metadata": {},
   "outputs": [],
   "source": [
    "import os\n",
    "import pandas as pd"
   ]
  },
  {
   "cell_type": "code",
   "execution_count": 9,
   "metadata": {},
   "outputs": [],
   "source": [
    "# list_of_notions = os.get\n",
    "# notion = pd.read_html('/Users/scotti/Library/Mobile Documents/com~apple~CloudDocs/Documents/Github/sjsisherwood/Startups/Antiverse.html')[0]\n",
    "\n",
    "# with open('/Users/scotti/Library/Mobile Documents/com~apple~CloudDocs/Documents/Github/sjsisherwood/Startups/Antiverse_notion.html', 'r') as file:\n",
    "with open('/Users/scotti/Library/Mobile Documents/com~apple~CloudDocs/Documents/Github/sjsisherwood/Startups/Mytos_notion.html', 'r') as file:\n",
    "    html_content = file.read()"
   ]
  },
  {
   "cell_type": "code",
   "execution_count": 10,
   "metadata": {},
   "outputs": [],
   "source": [
    "sections_to_change = {\"border-bottom: 1px solid rgba(55, 53, 47, 0.09)\":\"border-bottom: 4px solid rgba(107, 105, 97, 0.2)\",\n",
    "                      \"\"\".block-color-gray_background {\n",
    "\tbackground: rgba(241, 241, 239, 1);\n",
    "}\n",
    ".block-color-brown_background {\n",
    "\tbackground: rgba(244, 238, 238, 1);\n",
    "}\n",
    ".block-color-orange_background {\n",
    "\tbackground: rgba(251, 236, 221, 1);\n",
    "}\n",
    ".block-color-yellow_background {\n",
    "\tbackground: rgba(251, 243, 219, 1);\n",
    "}\n",
    ".block-color-teal_background {\n",
    "\tbackground: rgba(237, 243, 236, 1);\n",
    "}\n",
    ".block-color-blue_background {\n",
    "\tbackground: rgba(231, 243, 248, 1);\n",
    "}\n",
    ".block-color-purple_background {\n",
    "\tbackground: rgba(244, 240, 247, 0.8);\n",
    "}\n",
    ".block-color-pink_background {\n",
    "\tbackground: rgba(249, 238, 243, 0.8);\n",
    "}\n",
    ".block-color-red_background {\n",
    "\tbackground: rgba(253, 235, 236, 1);\n",
    "}\"\"\": \"\"\".block-color-gray_background {\n",
    "\tbackground: rgba(225, 225, 225, 0.1); /* Subtle light gray */\n",
    "}\n",
    ".block-color-brown_background {\n",
    "\tbackground: rgba(230, 210, 190, 0.1); /* Subtle brown */\n",
    "}\n",
    ".block-color-orange_background {\n",
    "\tbackground: rgba(255, 190, 110, 0.1); /* Subtle orange */\n",
    "}\n",
    ".block-color-yellow_background {\n",
    "\tbackground: rgba(255, 245, 140, 0.1); /* Subtle yellow */\n",
    "}\n",
    ".block-color-teal_background {\n",
    "\tbackground: rgba(90, 200, 180, 0.1); /* Subtle teal */\n",
    "}\n",
    ".block-color-blue_background {\n",
    "\tbackground: rgba(100, 170, 255, 0.1); /* Subtle blue */\n",
    "}\n",
    ".block-color-purple_background {\n",
    "\tbackground: rgba(200, 100, 230, 0.1); /* Subtle purple */\n",
    "}\n",
    ".block-color-pink_background {\n",
    "\tbackground: rgba(250, 160, 190, 0.1); /* Subtle pink */\n",
    "}\n",
    ".block-color-red_background {\n",
    "\tbackground: rgba(245, 120, 110, 0.1); /* Subtle red */\n",
    "}\"\"\",\n",
    "\"\"\"body {\n",
    "\tmargin: 0;\n",
    "\tpadding: 0;\n",
    "}\n",
    "@media only screen {\n",
    "\tbody {\n",
    "\t\tmargin: 2em auto;\n",
    "\t\tmax-width: 900px;\n",
    "\t\tcolor: rgb(55, 53, 47);\n",
    "\t}\n",
    "}\"\"\":\"\"\"/* Updated body style for background color and content width */\n",
    "body {\n",
    "    background-color: #011627; /* Set page background color to #011627 */\n",
    "    color: #ffffff; /* Adjust text color for better contrast */\n",
    "    margin: 0 auto;\n",
    "    max-width: 1200px; /* Increase content width */\n",
    "    padding: 20px; /* Add padding around content */\n",
    "    line-height: 1.6; /* Improve readability */\n",
    "}\n",
    "\n",
    "@media only screen {\n",
    "\n",
    "/* Updated body style for background color and content width */\n",
    "body {\n",
    "    background-color: #011627; /* Set page background color to #011627 */\n",
    "    color: #ffffff; /* Adjust text color for better contrast */\n",
    "    margin: 0 auto;\n",
    "    max-width: 1200px; /* Increase content width */\n",
    "    padding: 20px; /* Add padding around content */\n",
    "    line-height: 1.6; /* Improve readability */\n",
    "}\n",
    "\n",
    "\t}\"\"\",\n",
    " '''details open=\"\"''': \"details\"}\n",
    "\n"
   ]
  },
  {
   "cell_type": "code",
   "execution_count": 11,
   "metadata": {},
   "outputs": [],
   "source": [
    "for key, val in sections_to_change.items():\n",
    "    html_content = html_content.replace(key,val)"
   ]
  },
  {
   "cell_type": "code",
   "execution_count": 12,
   "metadata": {},
   "outputs": [
    {
     "data": {
      "text/plain": [
       "'<html><head><meta http-equiv=\"Content-Type\" content=\"text/html; charset=utf-8\"/><title>Mytos</title><style>\\n/* cspell:disable-file */\\n/* webkit printing magic: print all background colors */\\nhtml {\\n\\t-webkit-print-color-adjust: exact;\\n}\\n* {\\n\\tbox-sizing: border-box;\\n\\t-webkit-print-color-adjust: exact;\\n}\\n\\nhtml,\\n/* Updated body style for background color and content width */\\nbody {\\n    background-color: #011627; /* Set page background color to #011627 */\\n    color: #ffffff; /* Adjust text color for better contrast */\\n    margin: 0 auto;\\n    max-width: 1200px; /* Increase content width */\\n    padding: 20px; /* Add padding around content */\\n    line-height: 1.6; /* Improve readability */\\n}\\n\\n@media only screen {\\n\\n/* Updated body style for background color and content width */\\nbody {\\n    background-color: #011627; /* Set page background color to #011627 */\\n    color: #ffffff; /* Adjust text color for better contrast */\\n    margin: 0 auto;\\n    max-width: 1200px; /* Increase content width */\\n    padding: 20px; /* Add padding around content */\\n    line-height: 1.6; /* Improve readability */\\n}\\n\\n\\t}\\n\\nbody {\\n\\tline-height: 1.5;\\n\\twhite-space: pre-wrap;\\n}\\n\\na,\\na.visited {\\n\\tcolor: inherit;\\n\\ttext-decoration: underline;\\n}\\n\\n.pdf-relative-link-path {\\n\\tfont-size: 80%;\\n\\tcolor: #444;\\n}\\n\\nh1,\\nh2,\\nh3 {\\n\\tletter-spacing: -0.01em;\\n\\tline-height: 1.2;\\n\\tfont-weight: 600;\\n\\tmargin-bottom: 0;\\n}\\n\\n.page-title {\\n\\tfont-size: 2.5rem;\\n\\tfont-weight: 700;\\n\\tmargin-top: 0;\\n\\tmargin-bottom: 0.75em;\\n}\\n\\nh1 {\\n\\tfont-size: 1.875rem;\\n\\tmargin-top: 1.875rem;\\n}\\n\\nh2 {\\n\\tfont-size: 1.5rem;\\n\\tmargin-top: 1.5rem;\\n}\\n\\nh3 {\\n\\tfont-size: 1.25rem;\\n\\tmargin-top: 1.25rem;\\n}\\n\\n.source {\\n\\tborder: 1px solid #ddd;\\n\\tborder-radius: 3px;\\n\\tpadding: 1.5em;\\n\\tword-break: break-all;\\n}\\n\\n.callout {\\n\\tborder-radius: 3px;\\n\\tpadding: 1rem;\\n}\\n\\nfigure {\\n\\tmargin: 1.25em 0;\\n\\tpage-break-inside: avoid;\\n}\\n\\nfigcaption {\\n\\topacity: 0.5;\\n\\tfont-size: 85%;\\n\\tmargin-top: 0.5em;\\n}\\n\\nmark {\\n\\tbackground-color: transparent;\\n}\\n\\n.indented {\\n\\tpadding-left: 1.5em;\\n}\\n\\nhr {\\n\\tbackground: transparent;\\n\\tdisplay: block;\\n\\twidth: 100%;\\n\\theight: 1px;\\n\\tvisibility: visible;\\n\\tborder: none;\\n\\tborder-bottom: 4px solid rgba(107, 105, 97, 0.2);\\n}\\n\\nimg {\\n\\tmax-width: 100%;\\n}\\n\\n@media only print {\\n\\timg {\\n\\t\\tmax-height: 100vh;\\n\\t\\tobject-fit: contain;\\n\\t}\\n}\\n\\n@page {\\n\\tmargin: 1in;\\n}\\n\\n.collection-content {\\n\\tfont-size: 0.875rem;\\n}\\n\\n.column-list {\\n\\tdisplay: flex;\\n\\tjustify-content: space-between;\\n}\\n\\n.column {\\n\\tpadding: 0 1em;\\n}\\n\\n.column:first-child {\\n\\tpadding-left: 0;\\n}\\n\\n.column:last-child {\\n\\tpadding-right: 0;\\n}\\n\\n.table_of_contents-item {\\n\\tdisplay: block;\\n\\tfont-size: 0.875rem;\\n\\tline-height: 1.3;\\n\\tpadding: 0.125rem;\\n}\\n\\n.table_of_contents-indent-1 {\\n\\tmargin-left: 1.5rem;\\n}\\n\\n.table_of_contents-indent-2 {\\n\\tmargin-left: 3rem;\\n}\\n\\n.table_of_contents-indent-3 {\\n\\tmargin-left: 4.5rem;\\n}\\n\\n.table_of_contents-link {\\n\\ttext-decoration: none;\\n\\topacity: 0.7;\\n\\tborder-bottom: 1px solid rgba(55, 53, 47, 0.18);\\n}\\n\\ntable,\\nth,\\ntd {\\n\\tborder: 1px solid rgba(55, 53, 47, 0.09);\\n\\tborder-collapse: collapse;\\n}\\n\\ntable {\\n\\tborder-left: none;\\n\\tborder-right: none;\\n}\\n\\nth,\\ntd {\\n\\tfont-weight: normal;\\n\\tpadding: 0.25em 0.5em;\\n\\tline-height: 1.5;\\n\\tmin-height: 1.5em;\\n\\ttext-align: left;\\n}\\n\\nth {\\n\\tcolor: rgba(55, 53, 47, 0.6);\\n}\\n\\nol,\\nul {\\n\\tmargin: 0;\\n\\tmargin-block-start: 0.6em;\\n\\tmargin-block-end: 0.6em;\\n}\\n\\nli > ol:first-child,\\nli > ul:first-child {\\n\\tmargin-block-start: 0.6em;\\n}\\n\\nul > li {\\n\\tlist-style: disc;\\n}\\n\\nul.to-do-list {\\n\\tpadding-inline-start: 0;\\n}\\n\\nul.to-do-list > li {\\n\\tlist-style: none;\\n}\\n\\n.to-do-children-checked {\\n\\ttext-decoration: line-through;\\n\\topacity: 0.375;\\n}\\n\\nul.toggle > li {\\n\\tlist-style: none;\\n}\\n\\nul {\\n\\tpadding-inline-start: 1.7em;\\n}\\n\\nul > li {\\n\\tpadding-left: 0.1em;\\n}\\n\\nol {\\n\\tpadding-inline-start: 1.6em;\\n}\\n\\nol > li {\\n\\tpadding-left: 0.2em;\\n}\\n\\n.mono ol {\\n\\tpadding-inline-start: 2em;\\n}\\n\\n.mono ol > li {\\n\\ttext-indent: -0.4em;\\n}\\n\\n.toggle {\\n\\tpadding-inline-start: 0em;\\n\\tlist-style-type: none;\\n}\\n\\n/* Indent toggle children */\\n.toggle > li > details {\\n\\tpadding-left: 1.7em;\\n}\\n\\n.toggle > li > details > summary {\\n\\tmargin-left: -1.1em;\\n}\\n\\n.selected-value {\\n\\tdisplay: inline-block;\\n\\tpadding: 0 0.5em;\\n\\tbackground: rgba(206, 205, 202, 0.5);\\n\\tborder-radius: 3px;\\n\\tmargin-right: 0.5em;\\n\\tmargin-top: 0.3em;\\n\\tmargin-bottom: 0.3em;\\n\\twhite-space: nowrap;\\n}\\n\\n.collection-title {\\n\\tdisplay: inline-block;\\n\\tmargin-right: 1em;\\n}\\n\\n.page-description {\\n\\tmargin-bottom: 2em;\\n}\\n\\n.simple-table {\\n\\tmargin-top: 1em;\\n\\tfont-size: 0.875rem;\\n\\tempty-cells: show;\\n}\\n.simple-table td {\\n\\theight: 29px;\\n\\tmin-width: 120px;\\n}\\n\\n.simple-table th {\\n\\theight: 29px;\\n\\tmin-width: 120px;\\n}\\n\\n.simple-table-header-color {\\n\\tbackground: rgb(247, 246, 243);\\n\\tcolor: black;\\n}\\n.simple-table-header {\\n\\tfont-weight: 500;\\n}\\n\\ntime {\\n\\topacity: 0.5;\\n}\\n\\n.icon {\\n\\tdisplay: inline-block;\\n\\tmax-width: 1.2em;\\n\\tmax-height: 1.2em;\\n\\ttext-decoration: none;\\n\\tvertical-align: text-bottom;\\n\\tmargin-right: 0.5em;\\n}\\n\\nimg.icon {\\n\\tborder-radius: 3px;\\n}\\n\\n.user-icon {\\n\\twidth: 1.5em;\\n\\theight: 1.5em;\\n\\tborder-radius: 100%;\\n\\tmargin-right: 0.5rem;\\n}\\n\\n.user-icon-inner {\\n\\tfont-size: 0.8em;\\n}\\n\\n.text-icon {\\n\\tborder: 1px solid #000;\\n\\ttext-align: center;\\n}\\n\\n.page-cover-image {\\n\\tdisplay: block;\\n\\tobject-fit: cover;\\n\\twidth: 100%;\\n\\tmax-height: 30vh;\\n}\\n\\n.page-header-icon {\\n\\tfont-size: 3rem;\\n\\tmargin-bottom: 1rem;\\n}\\n\\n.page-header-icon-with-cover {\\n\\tmargin-top: -0.72em;\\n\\tmargin-left: 0.07em;\\n}\\n\\n.page-header-icon img {\\n\\tborder-radius: 3px;\\n}\\n\\n.link-to-page {\\n\\tmargin: 1em 0;\\n\\tpadding: 0;\\n\\tborder: none;\\n\\tfont-weight: 500;\\n}\\n\\np > .user {\\n\\topacity: 0.5;\\n}\\n\\ntd > .user,\\ntd > time {\\n\\twhite-space: nowrap;\\n}\\n\\ninput[type=\"checkbox\"] {\\n\\ttransform: scale(1.5);\\n\\tmargin-right: 0.6em;\\n\\tvertical-align: middle;\\n}\\n\\np {\\n\\tmargin-top: 0.5em;\\n\\tmargin-bottom: 0.5em;\\n}\\n\\n.image {\\n\\tborder: none;\\n\\tmargin: 1.5em 0;\\n\\tpadding: 0;\\n\\tborder-radius: 0;\\n\\ttext-align: center;\\n}\\n\\n.code,\\ncode {\\n\\tbackground: rgba(135, 131, 120, 0.15);\\n\\tborder-radius: 3px;\\n\\tpadding: 0.2em 0.4em;\\n\\tborder-radius: 3px;\\n\\tfont-size: 85%;\\n\\ttab-size: 2;\\n}\\n\\ncode {\\n\\tcolor: #eb5757;\\n}\\n\\n.code {\\n\\tpadding: 1.5em 1em;\\n}\\n\\n.code-wrap {\\n\\twhite-space: pre-wrap;\\n\\tword-break: break-all;\\n}\\n\\n.code > code {\\n\\tbackground: none;\\n\\tpadding: 0;\\n\\tfont-size: 100%;\\n\\tcolor: inherit;\\n}\\n\\nblockquote {\\n\\tfont-size: 1.25em;\\n\\tmargin: 1em 0;\\n\\tpadding-left: 1em;\\n\\tborder-left: 3px solid rgb(55, 53, 47);\\n}\\n\\n.bookmark {\\n\\ttext-decoration: none;\\n\\tmax-height: 8em;\\n\\tpadding: 0;\\n\\tdisplay: flex;\\n\\twidth: 100%;\\n\\talign-items: stretch;\\n}\\n\\n.bookmark-title {\\n\\tfont-size: 0.85em;\\n\\toverflow: hidden;\\n\\ttext-overflow: ellipsis;\\n\\theight: 1.75em;\\n\\twhite-space: nowrap;\\n}\\n\\n.bookmark-text {\\n\\tdisplay: flex;\\n\\tflex-direction: column;\\n}\\n\\n.bookmark-info {\\n\\tflex: 4 1 180px;\\n\\tpadding: 12px 14px 14px;\\n\\tdisplay: flex;\\n\\tflex-direction: column;\\n\\tjustify-content: space-between;\\n}\\n\\n.bookmark-image {\\n\\twidth: 33%;\\n\\tflex: 1 1 180px;\\n\\tdisplay: block;\\n\\tposition: relative;\\n\\tobject-fit: cover;\\n\\tborder-radius: 1px;\\n}\\n\\n.bookmark-description {\\n\\tcolor: rgba(55, 53, 47, 0.6);\\n\\tfont-size: 0.75em;\\n\\toverflow: hidden;\\n\\tmax-height: 4.5em;\\n\\tword-break: break-word;\\n}\\n\\n.bookmark-href {\\n\\tfont-size: 0.75em;\\n\\tmargin-top: 0.25em;\\n}\\n\\n.sans { font-family: ui-sans-serif, -apple-system, BlinkMacSystemFont, \"Segoe UI Variable Display\", \"Segoe UI\", Helvetica, \"Apple Color Emoji\", Arial, sans-serif, \"Segoe UI Emoji\", \"Segoe UI Symbol\"; }\\n.code { font-family: \"SFMono-Regular\", Menlo, Consolas, \"PT Mono\", \"Liberation Mono\", Courier, monospace; }\\n.serif { font-family: Lyon-Text, Georgia, ui-serif, serif; }\\n.mono { font-family: iawriter-mono, Nitti, Menlo, Courier, monospace; }\\n.pdf .sans { font-family: Inter, ui-sans-serif, -apple-system, BlinkMacSystemFont, \"Segoe UI Variable Display\", \"Segoe UI\", Helvetica, \"Apple Color Emoji\", Arial, sans-serif, \"Segoe UI Emoji\", \"Segoe UI Symbol\", \\'Twemoji\\', \\'Noto Color Emoji\\', \\'Noto Sans CJK JP\\'; }\\n.pdf:lang(zh-CN) .sans { font-family: Inter, ui-sans-serif, -apple-system, BlinkMacSystemFont, \"Segoe UI Variable Display\", \"Segoe UI\", Helvetica, \"Apple Color Emoji\", Arial, sans-serif, \"Segoe UI Emoji\", \"Segoe UI Symbol\", \\'Twemoji\\', \\'Noto Color Emoji\\', \\'Noto Sans CJK SC\\'; }\\n.pdf:lang(zh-TW) .sans { font-family: Inter, ui-sans-serif, -apple-system, BlinkMacSystemFont, \"Segoe UI Variable Display\", \"Segoe UI\", Helvetica, \"Apple Color Emoji\", Arial, sans-serif, \"Segoe UI Emoji\", \"Segoe UI Symbol\", \\'Twemoji\\', \\'Noto Color Emoji\\', \\'Noto Sans CJK TC\\'; }\\n.pdf:lang(ko-KR) .sans { font-family: Inter, ui-sans-serif, -apple-system, BlinkMacSystemFont, \"Segoe UI Variable Display\", \"Segoe UI\", Helvetica, \"Apple Color Emoji\", Arial, sans-serif, \"Segoe UI Emoji\", \"Segoe UI Symbol\", \\'Twemoji\\', \\'Noto Color Emoji\\', \\'Noto Sans CJK KR\\'; }\\n.pdf .code { font-family: Source Code Pro, \"SFMono-Regular\", Menlo, Consolas, \"PT Mono\", \"Liberation Mono\", Courier, monospace, \\'Twemoji\\', \\'Noto Color Emoji\\', \\'Noto Sans Mono CJK JP\\'; }\\n.pdf:lang(zh-CN) .code { font-family: Source Code Pro, \"SFMono-Regular\", Menlo, Consolas, \"PT Mono\", \"Liberation Mono\", Courier, monospace, \\'Twemoji\\', \\'Noto Color Emoji\\', \\'Noto Sans Mono CJK SC\\'; }\\n.pdf:lang(zh-TW) .code { font-family: Source Code Pro, \"SFMono-Regular\", Menlo, Consolas, \"PT Mono\", \"Liberation Mono\", Courier, monospace, \\'Twemoji\\', \\'Noto Color Emoji\\', \\'Noto Sans Mono CJK TC\\'; }\\n.pdf:lang(ko-KR) .code { font-family: Source Code Pro, \"SFMono-Regular\", Menlo, Consolas, \"PT Mono\", \"Liberation Mono\", Courier, monospace, \\'Twemoji\\', \\'Noto Color Emoji\\', \\'Noto Sans Mono CJK KR\\'; }\\n.pdf .serif { font-family: PT Serif, Lyon-Text, Georgia, ui-serif, serif, \\'Twemoji\\', \\'Noto Color Emoji\\', \\'Noto Serif CJK JP\\'; }\\n.pdf:lang(zh-CN) .serif { font-family: PT Serif, Lyon-Text, Georgia, ui-serif, serif, \\'Twemoji\\', \\'Noto Color Emoji\\', \\'Noto Serif CJK SC\\'; }\\n.pdf:lang(zh-TW) .serif { font-family: PT Serif, Lyon-Text, Georgia, ui-serif, serif, \\'Twemoji\\', \\'Noto Color Emoji\\', \\'Noto Serif CJK TC\\'; }\\n.pdf:lang(ko-KR) .serif { font-family: PT Serif, Lyon-Text, Georgia, ui-serif, serif, \\'Twemoji\\', \\'Noto Color Emoji\\', \\'Noto Serif CJK KR\\'; }\\n.pdf .mono { font-family: PT Mono, iawriter-mono, Nitti, Menlo, Courier, monospace, \\'Twemoji\\', \\'Noto Color Emoji\\', \\'Noto Sans Mono CJK JP\\'; }\\n.pdf:lang(zh-CN) .mono { font-family: PT Mono, iawriter-mono, Nitti, Menlo, Courier, monospace, \\'Twemoji\\', \\'Noto Color Emoji\\', \\'Noto Sans Mono CJK SC\\'; }\\n.pdf:lang(zh-TW) .mono { font-family: PT Mono, iawriter-mono, Nitti, Menlo, Courier, monospace, \\'Twemoji\\', \\'Noto Color Emoji\\', \\'Noto Sans Mono CJK TC\\'; }\\n.pdf:lang(ko-KR) .mono { font-family: PT Mono, iawriter-mono, Nitti, Menlo, Courier, monospace, \\'Twemoji\\', \\'Noto Color Emoji\\', \\'Noto Sans Mono CJK KR\\'; }\\n.highlight-default {\\n\\tcolor: rgba(55, 53, 47, 1);\\n}\\n.highlight-gray {\\n\\tcolor: rgba(120, 119, 116, 1);\\n\\tfill: rgba(120, 119, 116, 1);\\n}\\n.highlight-brown {\\n\\tcolor: rgba(159, 107, 83, 1);\\n\\tfill: rgba(159, 107, 83, 1);\\n}\\n.highlight-orange {\\n\\tcolor: rgba(217, 115, 13, 1);\\n\\tfill: rgba(217, 115, 13, 1);\\n}\\n.highlight-yellow {\\n\\tcolor: rgba(203, 145, 47, 1);\\n\\tfill: rgba(203, 145, 47, 1);\\n}\\n.highlight-teal {\\n\\tcolor: rgba(68, 131, 97, 1);\\n\\tfill: rgba(68, 131, 97, 1);\\n}\\n.highlight-blue {\\n\\tcolor: rgba(51, 126, 169, 1);\\n\\tfill: rgba(51, 126, 169, 1);\\n}\\n.highlight-purple {\\n\\tcolor: rgba(144, 101, 176, 1);\\n\\tfill: rgba(144, 101, 176, 1);\\n}\\n.highlight-pink {\\n\\tcolor: rgba(193, 76, 138, 1);\\n\\tfill: rgba(193, 76, 138, 1);\\n}\\n.highlight-red {\\n\\tcolor: rgba(212, 76, 71, 1);\\n\\tfill: rgba(212, 76, 71, 1);\\n}\\n.highlight-default_background {\\n\\tcolor: rgba(55, 53, 47, 1);\\n}\\n.highlight-gray_background {\\n\\tbackground: rgba(241, 241, 239, 1);\\n}\\n.highlight-brown_background {\\n\\tbackground: rgba(244, 238, 238, 1);\\n}\\n.highlight-orange_background {\\n\\tbackground: rgba(251, 236, 221, 1);\\n}\\n.highlight-yellow_background {\\n\\tbackground: rgba(251, 243, 219, 1);\\n}\\n.highlight-teal_background {\\n\\tbackground: rgba(237, 243, 236, 1);\\n}\\n.highlight-blue_background {\\n\\tbackground: rgba(231, 243, 248, 1);\\n}\\n.highlight-purple_background {\\n\\tbackground: rgba(244, 240, 247, 0.8);\\n}\\n.highlight-pink_background {\\n\\tbackground: rgba(249, 238, 243, 0.8);\\n}\\n.highlight-red_background {\\n\\tbackground: rgba(253, 235, 236, 1);\\n}\\n.block-color-default {\\n\\tcolor: inherit;\\n\\tfill: inherit;\\n}\\n.block-color-gray {\\n\\tcolor: rgba(120, 119, 116, 1);\\n\\tfill: rgba(120, 119, 116, 1);\\n}\\n.block-color-brown {\\n\\tcolor: rgba(159, 107, 83, 1);\\n\\tfill: rgba(159, 107, 83, 1);\\n}\\n.block-color-orange {\\n\\tcolor: rgba(217, 115, 13, 1);\\n\\tfill: rgba(217, 115, 13, 1);\\n}\\n.block-color-yellow {\\n\\tcolor: rgba(203, 145, 47, 1);\\n\\tfill: rgba(203, 145, 47, 1);\\n}\\n.block-color-teal {\\n\\tcolor: rgba(68, 131, 97, 1);\\n\\tfill: rgba(68, 131, 97, 1);\\n}\\n.block-color-blue {\\n\\tcolor: rgba(51, 126, 169, 1);\\n\\tfill: rgba(51, 126, 169, 1);\\n}\\n.block-color-purple {\\n\\tcolor: rgba(144, 101, 176, 1);\\n\\tfill: rgba(144, 101, 176, 1);\\n}\\n.block-color-pink {\\n\\tcolor: rgba(193, 76, 138, 1);\\n\\tfill: rgba(193, 76, 138, 1);\\n}\\n.block-color-red {\\n\\tcolor: rgba(212, 76, 71, 1);\\n\\tfill: rgba(212, 76, 71, 1);\\n}\\n.block-color-default_background {\\n\\tcolor: inherit;\\n\\tfill: inherit;\\n}\\n.block-color-gray_background {\\n\\tbackground: rgba(225, 225, 225, 0.1); /* Subtle light gray */\\n}\\n.block-color-brown_background {\\n\\tbackground: rgba(230, 210, 190, 0.1); /* Subtle brown */\\n}\\n.block-color-orange_background {\\n\\tbackground: rgba(255, 190, 110, 0.1); /* Subtle orange */\\n}\\n.block-color-yellow_background {\\n\\tbackground: rgba(255, 245, 140, 0.1); /* Subtle yellow */\\n}\\n.block-color-teal_background {\\n\\tbackground: rgba(90, 200, 180, 0.1); /* Subtle teal */\\n}\\n.block-color-blue_background {\\n\\tbackground: rgba(100, 170, 255, 0.1); /* Subtle blue */\\n}\\n.block-color-purple_background {\\n\\tbackground: rgba(200, 100, 230, 0.1); /* Subtle purple */\\n}\\n.block-color-pink_background {\\n\\tbackground: rgba(250, 160, 190, 0.1); /* Subtle pink */\\n}\\n.block-color-red_background {\\n\\tbackground: rgba(245, 120, 110, 0.1); /* Subtle red */\\n}\\n.select-value-color-uiBlue { background-color: rgba(35, 131, 226, .07); }\\n.select-value-color-pink { background-color: rgba(245, 224, 233, 1); }\\n.select-value-color-purple { background-color: rgba(232, 222, 238, 1); }\\n.select-value-color-green { background-color: rgba(219, 237, 219, 1); }\\n.select-value-color-gray { background-color: rgba(227, 226, 224, 1); }\\n.select-value-color-transparentGray { background-color: rgba(227, 226, 224, 0); }\\n.select-value-color-translucentGray { background-color: rgba(0, 0, 0, 0.06); }\\n.select-value-color-orange { background-color: rgba(250, 222, 201, 1); }\\n.select-value-color-brown { background-color: rgba(238, 224, 218, 1); }\\n.select-value-color-red { background-color: rgba(255, 226, 221, 1); }\\n.select-value-color-yellow { background-color: rgba(253, 236, 200, 1); }\\n.select-value-color-blue { background-color: rgba(211, 229, 239, 1); }\\n.select-value-color-pageGlass { background-color: undefined; }\\n.select-value-color-washGlass { background-color: undefined; }\\n\\n.checkbox {\\n\\tdisplay: inline-flex;\\n\\tvertical-align: text-bottom;\\n\\twidth: 16;\\n\\theight: 16;\\n\\tbackground-size: 16px;\\n\\tmargin-left: 2px;\\n\\tmargin-right: 5px;\\n}\\n\\n.checkbox-on {\\n\\tbackground-image: url(\"data:image/svg+xml;charset=UTF-8,%3Csvg%20width%3D%2216%22%20height%3D%2216%22%20viewBox%3D%220%200%2016%2016%22%20fill%3D%22none%22%20xmlns%3D%22http%3A%2F%2Fwww.w3.org%2F2000%2Fsvg%22%3E%0A%3Crect%20width%3D%2216%22%20height%3D%2216%22%20fill%3D%22%2358A9D7%22%2F%3E%0A%3Cpath%20d%3D%22M6.71429%2012.2852L14%204.9995L12.7143%203.71436L6.71429%209.71378L3.28571%206.2831L2%207.57092L6.71429%2012.2852Z%22%20fill%3D%22white%22%2F%3E%0A%3C%2Fsvg%3E\");\\n}\\n\\n.checkbox-off {\\n\\tbackground-image: url(\"data:image/svg+xml;charset=UTF-8,%3Csvg%20width%3D%2216%22%20height%3D%2216%22%20viewBox%3D%220%200%2016%2016%22%20fill%3D%22none%22%20xmlns%3D%22http%3A%2F%2Fwww.w3.org%2F2000%2Fsvg%22%3E%0A%3Crect%20x%3D%220.75%22%20y%3D%220.75%22%20width%3D%2214.5%22%20height%3D%2214.5%22%20fill%3D%22white%22%20stroke%3D%22%2336352F%22%20stroke-width%3D%221.5%22%2F%3E%0A%3C%2Fsvg%3E\");\\n}\\n\\t\\n</style></head><body><article id=\"1604d29a-341b-80fe-a703-f3070cb00231\" class=\"page sans\"><header><div class=\"page-header-icon undefined\"><img class=\"icon\" src=\"https://www.notion.so/icons/microscope_gray.svg\"/></div><h1 class=\"page-title\">Mytos</h1><p class=\"page-description\"></p></header><div class=\"page-body\"><figure class=\"block-color-default callout\" style=\"white-space:pre-wrap;display:flex\" id=\"37a874d4-c584-4dc8-b863-e04ca145d673\"><div style=\"font-size:1.5em\"><img class=\"icon\" src=\"https://www.notion.so/icons/city_gray.svg\"/></div><div style=\"width:100%\"><strong>Company Information</strong><p id=\"26f32748-5ce7-4d78-a191-5dcce0843428\" class=\"\">Mytos develops automated cell culture systems aimed at transforming human cell manufacturing. Their technology streamlines traditionally manual processes, making cell culture more scalable, consistent, and efficient. This innovation addresses the increasing demand in sectors like drug discovery and cell therapy.</p></div></figure><hr id=\"e66479a6-e75d-42d7-8090-74ca4cb33c3f\"/><p id=\"1604d29a-341b-8016-8dfe-e6abc8ce12d8\" class=\"\">Grants/Incubators/Funders:</p><ul id=\"1624d29a-341b-805c-9985-e2af3b8bb2e8\" class=\"bulleted-list\"><li style=\"list-style-type:disc\">Y combinator</li></ul><ul id=\"1624d29a-341b-8041-8d0d-cf4fd67f0849\" class=\"bulleted-list\"><li style=\"list-style-type:disc\">Innovate UK</li></ul><ul id=\"1624d29a-341b-807f-8c05-dedc7f62add5\" class=\"bulleted-list\"><li style=\"list-style-type:disc\">Imperial College London</li></ul><ul id=\"1624d29a-341b-80bb-862a-c9b2db8b671a\" class=\"bulleted-list\"><li style=\"list-style-type:disc\">Buckley Ventures</li></ul><ul id=\"1624d29a-341b-80de-bdb8-cc53ef49e7f7\" class=\"bulleted-list\"><li style=\"list-style-type:disc\">IQ Capital</li></ul><ul id=\"1624d29a-341b-80d8-abd5-f26116bd5bda\" class=\"bulleted-list\"><li style=\"list-style-type:disc\">Wing VC</li></ul><p id=\"1624d29a-341b-80ef-be0f-ee3391039c2e\" class=\"\">\\n</p><hr id=\"1624d29a-341b-809f-9a29-c7471aea87ff\"/><blockquote id=\"fffbcdf1-c27e-4d81-ab09-c6538055795c\" class=\"\">We use the Business Model Canvas (BMC), which captures what the startups offers, how it reaches its customers and how profitable it could be.</blockquote><div id=\"9039e034-1ff9-482a-846d-be2fd5983605\" class=\"column-list\"><div id=\"562fb7e1-09b9-429a-97dc-0841b1ad7d02\" style=\"width:100%\" class=\"column\"><figure class=\"block-color-gray_background callout\" style=\"white-space:pre-wrap;display:flex\" id=\"4c725097-f13e-4f79-b5fc-132d7a6e8e73\"><div style=\"font-size:1.5em\"><img class=\"icon\" src=\"https://www.notion.so/icons/sharing_gray.svg\"/></div><div style=\"width:100%\"><strong>Key Partnerships</strong><p id=\"57630d7b-48b1-408c-b309-4cba7eded99d\" class=\"\">What strategic collaborations do they have, and how do these enhance the company’s capabilities or reduce risk, etc.</p><ul id=\"c448555c-e3c1-448c-98af-04cb04dc43ff\" class=\"bulleted-list\"><li style=\"list-style-type:disc\"><strong>Companies:</strong> Exact companies unknown, but product already deployed</li></ul><ul id=\"f0fc754e-25a1-49de-9619-3192e40e9800\" class=\"bulleted-list\"><li style=\"list-style-type:disc\"><strong>Investors</strong>: Buckley Ventures, IQ Capital, and Wing VC ($19M overall)</li></ul><ul id=\"17c6d042-8541-46d7-ac19-54f2665ad671\" class=\"bulleted-list\"><li style=\"list-style-type:disc\"><strong>Academic Institutions</strong>: Unknown</li></ul></div></figure><figure class=\"block-color-teal_background callout\" style=\"white-space:pre-wrap;display:flex\" id=\"21a15904-588b-4643-b259-5b7a3d1a4fbc\"><div style=\"font-size:1.5em\"><img class=\"icon\" src=\"https://www.notion.so/icons/gym_gray.svg\"/></div><div style=\"width:100%\"><strong>Key Activities</strong><p id=\"ddb9926f-e07d-4e69-8309-006acdee4d7e\" class=\"\">How are they creating value, improving relationships with customers, increasing operational efficiency, etc.</p><ul id=\"7d3bbc64-46bc-4875-acbe-21368317d7e4\" class=\"bulleted-list\"><li style=\"list-style-type:disc\"><strong>Value:</strong> Increases efficiency of automated cell manufacturing and expands to new cells types</li></ul><ul id=\"dc56c9ab-caf9-41cd-851e-6570cecd0d69\" class=\"bulleted-list\"><li style=\"list-style-type:disc\"><strong>Method: Automates differentiation of two cell types invaluable for disease modelling</strong></li></ul><ul id=\"d6e61c44-7b8e-4fbd-a6fd-d80f67193d79\" class=\"bulleted-list\"><li style=\"list-style-type:disc\"><strong>Relationships: Unknown</strong></li></ul></div></figure><figure class=\"block-color-yellow_background callout\" style=\"white-space:pre-wrap;display:flex\" id=\"8b4992fd-1958-42cf-8b06-b59514e3c56c\"><div style=\"font-size:1.5em\"><img class=\"icon\" src=\"https://www.notion.so/icons/pin_gray.svg\"/></div><div style=\"width:100%\"><strong>Key Resources</strong><p id=\"8ae4d3d4-1a5f-42fe-bff9-3a4e42e2ea86\" class=\"\">What resources/assets do they need to deliver value.</p><ul id=\"5875ef6e-abc7-430f-a1f6-59af4dec6232\" class=\"bulleted-list\"><li style=\"list-style-type:disc\"><strong>Resources: </strong>energy, complex hardware and software</li></ul><ul id=\"9fdab54f-eee0-4c0d-b9e8-4d1e97564ddb\" class=\"bulleted-list\"><li style=\"list-style-type:disc\"><strong>Assets:</strong> proprietary tech</li></ul><ul id=\"a9808188-8714-4650-9541-039fc95f3f58\" class=\"bulleted-list\"><li style=\"list-style-type:disc\"><strong>Team:</strong> Specialists - engineering &amp; biotechnology</li></ul></div></figure><figure class=\"block-color-blue_background callout\" style=\"white-space:pre-wrap;display:flex\" id=\"c7f6a599-5f3a-4610-99a7-1f76095f94e3\"><div style=\"font-size:1.5em\"><img class=\"icon\" src=\"https://www.notion.so/icons/gem_gray.svg\"/></div><div style=\"width:100%\"><strong>Value Proposition</strong><p id=\"c300668c-018e-4029-826f-80547d88dbfe\" class=\"\">What are they offering, how are they meeting customers needs, how are they differentiable from competition, etc.</p><ul id=\"e6a0d843-cc0e-4d41-85d1-0eb7ace1e0c2\" class=\"bulleted-list\"><li style=\"list-style-type:disc\"><strong>Offer: </strong>huge efficiency gain, less human intervention required</li></ul><ul id=\"6f4b6fa7-df6e-49bb-80e5-57348b773053\" class=\"bulleted-list\"><li style=\"list-style-type:disc\"><strong>Quality</strong>: Ensures quality, removes human error</li></ul><ul id=\"19821f8c-48bc-489d-9047-b7203e9c7d3f\" class=\"bulleted-list\"><li style=\"list-style-type:disc\"><strong>Differentiation: </strong>highly scalable</li></ul></div></figure></div><div id=\"66e2cf0d-def0-444c-8527-db255c5d6f3a\" style=\"width:100%\" class=\"column\"><figure class=\"block-color-purple_background callout\" style=\"white-space:pre-wrap;display:flex\" id=\"5a8fa0c5-7611-40a1-ab1e-9b2929301108\"><div style=\"font-size:1.5em\"><img class=\"icon\" src=\"https://www.notion.so/icons/heart_gray.svg\"/></div><div style=\"width:100%\"><strong>Customer relationships</strong><p id=\"0c2628ef-bcd7-4202-a042-c982d0dbdc83\" class=\"\">How will they build loyalty, maintain good relationships, what kind of relationships do we expect, etc.</p><ul id=\"0eccece6-fa9b-434a-8ffa-ff5d5ee68b11\" class=\"bulleted-list\"><li style=\"list-style-type:disc\"><strong>Needs: </strong>Easy integration with existing infrastructure</li></ul><ul id=\"c3597c2b-a821-4f68-aa2c-4f06bddaad34\" class=\"bulleted-list\"><li style=\"list-style-type:disc\"><strong>Support</strong>: Provide ongoing technical support</li></ul></div></figure><figure class=\"block-color-orange_background callout\" style=\"white-space:pre-wrap;display:flex\" id=\"e18ff770-c344-4b79-82c9-a5e2121ff9a6\"><div style=\"font-size:1.5em\"><img class=\"icon\" src=\"https://www.notion.so/icons/megaphone_gray.svg\"/></div><div style=\"width:100%\"><strong>Channels</strong><p id=\"7d15a7da-23e3-46be-b933-5fe6a6e94710\" class=\"\">How will they reach their customers, how is their cost efficiency, customer acquisition, and retention, how will they distribute, etc.</p><ul id=\"7af67d77-a3b8-4e7a-8456-cb0c99443a60\" class=\"bulleted-list\"><li style=\"list-style-type:disc\"><strong>Sales</strong>: direct sales, pharma &amp; biotech companies</li></ul></div></figure><figure class=\"block-color-gray_background callout\" style=\"white-space:pre-wrap;display:flex\" id=\"b067d0fe-608c-49d6-9b7c-ffdf1f22ff1e\"><div style=\"font-size:1.5em\"><img class=\"icon\" src=\"https://www.notion.so/icons/groups_gray.svg\"/></div><div style=\"width:100%\"><strong>Customer Segments</strong><p id=\"acbe8ee5-ec5a-4dd4-938b-15aa2d9a3f8d\" class=\"\">Who are they serving, what is the target market, market size, etc. </p><ul id=\"daf07508-f9ae-490d-82d5-a07f077b7c7d\" class=\"bulleted-list\"><li style=\"list-style-type:disc\"><strong>Targets: </strong>B2B</li></ul></div></figure><p id=\"7360193c-649a-4c2e-8a06-0d7bde88bf79\" class=\"\">\\n</p></div></div><hr id=\"2aaaeee1-82aa-419c-ac1b-e56caec7e25a\"/><div id=\"71d09f75-972e-49a3-b072-a1b2fbef576d\" class=\"column-list\"><div id=\"adc48660-ce95-4dad-b8d8-8167a3573771\" style=\"width:100%\" class=\"column\"><figure class=\"block-color-pink_background callout\" style=\"white-space:pre-wrap;display:flex\" id=\"b42df4ec-0cd2-4784-a92e-54b8cc447462\"><div style=\"font-size:1.5em\"><img class=\"icon\" src=\"https://www.notion.so/icons/clipping_gray.svg\"/></div><div style=\"width:100%\"><strong>Cost Structure</strong><p id=\"74052c35-35e0-4a3c-b563-93dd6cd8ed2e\" class=\"\">What are the major fixed and variable costs.</p><ul id=\"edfccf1e-317b-4179-a549-77a75667ac91\" class=\"bulleted-list\"><li style=\"list-style-type:disc\"><strong>Variable:</strong> materials for production, distribution, and customer support services</li></ul><ul id=\"2b2eabbb-b106-4c5b-bdc1-187fcf6b6118\" class=\"bulleted-list\"><li style=\"list-style-type:disc\"><strong>Fixed:</strong> Salaries, R&amp;D expenses, and facility operations</li></ul></div></figure></div><div id=\"c1a81a7c-3cdf-4468-8bb1-3e3ec47981c9\" style=\"width:100%\" class=\"column\"><figure class=\"block-color-teal_background callout\" style=\"white-space:pre-wrap;display:flex\" id=\"cc241584-2b84-4c00-8b07-174afed6d8e0\"><div style=\"font-size:1.5em\"><img class=\"icon\" src=\"https://www.notion.so/icons/cash_gray.svg\"/></div><div style=\"width:100%\"><strong>Revenue Streams</strong><p id=\"d263b5b1-7538-4c3d-83bc-88e911192bde\" class=\"\">how will they make money, what is the pricing structure, any additional/creative revenue streams, etc.</p><ul id=\"d9e5f87a-6038-4338-a376-21b4f7057e54\" class=\"bulleted-list\"><li style=\"list-style-type:disc\"><strong>Physical sales</strong>: Proceeds from systems</li></ul><ul id=\"a8eb9d52-82ca-46cd-80e6-6a1f2c4942e7\" class=\"bulleted-list\"><li style=\"list-style-type:disc\"><strong>Recurring: </strong>Maintenance/support agreements</li></ul><ul id=\"a031a815-caf5-478c-b588-9232a3c1258a\" class=\"bulleted-list\"><li style=\"list-style-type:disc\"><strong>Licensing</strong>: potential income from licensing agreements</li></ul></div></figure></div></div><hr id=\"cbb44aaa-c008-4c6e-9ecb-14f467cdec0e\"/><blockquote id=\"29092e29-9e0e-48f2-a649-d3b1f808bead\" class=\"\">We use Porter’s five forces to evaluate the company’s competitive position and dynamics of the market and any external pressures</blockquote><figure class=\"block-color-default_background callout\" style=\"white-space:pre-wrap;display:flex\" id=\"e83c2659-6da7-4df9-8654-6b880c4ff9c5\"><div style=\"font-size:1.5em\"><img class=\"icon\" src=\"https://www.notion.so/icons/activity_gray.svg\"/></div><div style=\"width:100%\"><h3 id=\"c298ceb0-cc54-44a2-b8ba-70fd73fb7f3c\" class=\"\">1. Threat of New Entrants</h3><h3 id=\"62b5b215-7782-4180-8903-3489b704290b\" class=\"\"><mark class=\"highlight-teal_background\">➕</mark></h3><ul id=\"384de66f-a39d-4338-8b15-aa66a276a114\" class=\"bulleted-list\"><li style=\"list-style-type:disc\">Huge barrier to entry (expertise  and large initial funding required).</li></ul><p id=\"63bc8f3a-4872-4567-acd1-2f5317e135a4\" class=\"\"><mark class=\"highlight-red_background\">➖</mark></p><ul id=\"e331ea0a-e959-4b4e-a35a-1dc81aa8bfde\" class=\"bulleted-list\"><li style=\"list-style-type:disc\">Some automation technology is open-access/freely available.</li></ul><h3 id=\"a4a19478-e5ec-4a0c-914a-f3bd07662476\" class=\"\">2. Threat of Substitutes</h3><h3 id=\"e63c0837-b2d8-47a1-8eb2-0e8d94cd8d7e\" class=\"\"><mark class=\"highlight-teal_background\">➕</mark></h3><ul id=\"e1211a64-f708-4f85-a867-29f58273880b\" class=\"bulleted-list\"><li style=\"list-style-type:disc\">Efficient automation is difficult to substitute.</li></ul><p id=\"0dee25b3-db8e-4f04-b159-bd889edbddd3\" class=\"\"><mark class=\"highlight-red_background\">➖</mark></p><ul id=\"7b574b4b-c55f-4110-bf10-d2ca98370c6e\" class=\"bulleted-list\"><li style=\"list-style-type:disc\">Advanced robotics or more efficient automation is always possible.</li></ul><h3 id=\"31545574-07a5-4f51-9424-668ca0b61dbc\" class=\"\">3. Bargaining Power of Suppliers</h3><h3 id=\"ec23b860-ff48-4954-8c6b-c7f53e5bc467\" class=\"\"><mark class=\"highlight-teal_background\">➕</mark></h3><ul id=\"dc8eda6e-b0ff-4843-9af1-e09bcd511601\" class=\"bulleted-list\"><li style=\"list-style-type:disc\">If expertise is internal, minimal dependence on anything except hardware.</li></ul><p id=\"a2fc7a4c-4baf-42d5-a178-8958f751256e\" class=\"\"><mark class=\"highlight-red_background\">➖</mark></p><ul id=\"86444f6a-3ace-47a6-8b0f-f32fd3c1d450\" class=\"bulleted-list\"><li style=\"list-style-type:disc\">If hardware components become more niche, might become problematic.</li></ul><h3 id=\"1c301ee0-ebe5-4804-a853-00f1f503a29e\" class=\"\">4. Bargaining Power of Buyers</h3><h3 id=\"950e0137-3c56-45a6-b696-93841d145b32\" class=\"\"><mark class=\"highlight-teal_background\">➕</mark></h3><ul id=\"5575512b-cf10-4a10-ba04-189500848ea0\" class=\"bulleted-list\"><li style=\"list-style-type:disc\">The large efficiency gain, and lack of immediate competitors places it well.</li></ul><p id=\"7817c399-c869-48fa-826e-01926226d603\" class=\"\"><mark class=\"highlight-red_background\">➖</mark></p><ul id=\"f67d0c51-3e87-4629-9368-111836c1ec42\" class=\"bulleted-list\"><li style=\"list-style-type:disc\">Large biotech and pharma companies always hold large pricing power.</li></ul><h3 id=\"de8f4125-337e-451b-8c99-672c0e0fef32\" class=\"\">5. Intensity of Current Competition</h3><h3 id=\"b3a46018-3733-44aa-86a4-e6e8f57dcf3e\" class=\"\"><mark class=\"highlight-teal_background\">➕</mark></h3><ul id=\"df0f1f77-2b95-47de-bd57-8a1994868d75\" class=\"bulleted-list\"><li style=\"list-style-type:disc\">No current competition with these two cell types (neural progenitors &amp; cardiomyocytes)</li></ul><p id=\"d995f9bc-dfab-43e7-9d4c-910b17f32e80\" class=\"\"><mark class=\"highlight-red_background\">➖</mark></p><ul id=\"bc2d5cb6-ef0d-4a03-9771-b2952ca8e687\" class=\"bulleted-list\"><li style=\"list-style-type:disc\">Larger pharma companies could use their scale to catch up quickly and would be able to price their products more competitively.</li></ul><p id=\"7d76d1e2-f0aa-4fd0-a5a3-8ee744469c8b\" class=\"\">\\n</p></div></figure><hr id=\"a3bb0586-3905-46f9-b368-851b22737377\"/><figure class=\"block-color-default callout\" style=\"white-space:pre-wrap;display:flex\" id=\"5e5d1325-0472-49d7-bd7f-d26cc2a96e1d\"><div style=\"font-size:1.5em\"><img class=\"icon\" src=\"https://www.notion.so/icons/book-closed_gray.svg\"/></div><div style=\"width:100%\"><strong>Resources</strong><ul id=\"c1b25ac2-0515-4679-b0bf-2ee1d975e9c2\" class=\"toggle\"><li><details><summary>Website</summary><p id=\"f6178f94-ad48-4f62-8b3c-b4f1bbf18582\" class=\"\"><a href=\"https://www.mytos.bio/\">https://www.mytos.bio/</a></p></details></li></ul><p id=\"d84577ef-03fa-4765-aa17-ef79af9974aa\" class=\"\">\\n</p></div></figure><p id=\"40bcdb41-19e0-4d3e-83f0-643d39ce449e\" class=\"\">\\n</p><p id=\"efe9e752-15ee-4513-9ec5-6a66e5131a82\" class=\"\">\\n</p><p id=\"10fd71b9-2ac7-472e-b682-04b8a24d59a3\" class=\"\">\\n</p><p id=\"92e002c8-21c9-4b61-88ef-946c0304ac11\" class=\"\">\\n</p></div></article><span class=\"sans\" style=\"font-size:14px;padding-top:2em\"></span></body></html>'"
      ]
     },
     "execution_count": 12,
     "metadata": {},
     "output_type": "execute_result"
    }
   ],
   "source": [
    "html_content"
   ]
  },
  {
   "cell_type": "code",
   "execution_count": 13,
   "metadata": {},
   "outputs": [],
   "source": [
    "# with open('/Users/scotti/Library/Mobile Documents/com~apple~CloudDocs/Documents/Github/sjsisherwood/Startups/Antiverse.html', 'w') as file:\n",
    "with open('/Users/scotti/Library/Mobile Documents/com~apple~CloudDocs/Documents/Github/sjsisherwood/Startups/Mytos.html', 'w') as file:\n",
    "    file.write(html_content)"
   ]
  },
  {
   "cell_type": "code",
   "execution_count": 14,
   "metadata": {},
   "outputs": [
    {
     "data": {
      "text/plain": [
       "dict_keys(['border-bottom: 1px solid rgba(55, 53, 47, 0.09)', '.block-color-gray_background {\\n\\tbackground: rgba(241, 241, 239, 1);\\n}\\n.block-color-brown_background {\\n\\tbackground: rgba(244, 238, 238, 1);\\n}\\n.block-color-orange_background {\\n\\tbackground: rgba(251, 236, 221, 1);\\n}\\n.block-color-yellow_background {\\n\\tbackground: rgba(251, 243, 219, 1);\\n}\\n.block-color-teal_background {\\n\\tbackground: rgba(237, 243, 236, 1);\\n}\\n.block-color-blue_background {\\n\\tbackground: rgba(231, 243, 248, 1);\\n}\\n.block-color-purple_background {\\n\\tbackground: rgba(244, 240, 247, 0.8);\\n}\\n.block-color-pink_background {\\n\\tbackground: rgba(249, 238, 243, 0.8);\\n}\\n.block-color-red_background {\\n\\tbackground: rgba(253, 235, 236, 1);\\n}', 'body {\\n\\tmargin: 0;\\n\\tpadding: 0;\\n}\\n@media only screen {\\n\\tbody {\\n\\t\\tmargin: 2em auto;\\n\\t\\tmax-width: 900px;\\n\\t\\tcolor: rgb(55, 53, 47);\\n\\t}\\n}', 'details open=\"\"'])"
      ]
     },
     "execution_count": 14,
     "metadata": {},
     "output_type": "execute_result"
    }
   ],
   "source": [
    "sections_to_change.keys()"
   ]
  },
  {
   "cell_type": "code",
   "execution_count": null,
   "metadata": {},
   "outputs": [],
   "source": []
  }
 ],
 "metadata": {
  "kernelspec": {
   "display_name": "finMod",
   "language": "python",
   "name": "python3"
  },
  "language_info": {
   "codemirror_mode": {
    "name": "ipython",
    "version": 3
   },
   "file_extension": ".py",
   "mimetype": "text/x-python",
   "name": "python",
   "nbconvert_exporter": "python",
   "pygments_lexer": "ipython3",
   "version": "3.9.20"
  }
 },
 "nbformat": 4,
 "nbformat_minor": 2
}
