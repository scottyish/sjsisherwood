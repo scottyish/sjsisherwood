{
 "cells": [
  {
   "cell_type": "markdown",
   "metadata": {},
   "source": [
    "Notebook to translate notion website to style of personal website"
   ]
  },
  {
   "cell_type": "code",
   "execution_count": 10,
   "metadata": {},
   "outputs": [],
   "source": [
    "import os\n",
    "import pandas as pd"
   ]
  },
  {
   "cell_type": "code",
   "execution_count": null,
   "metadata": {},
   "outputs": [],
   "source": [
    "# list_of_notions = os.get\n",
    "# notion = pd.read_html('/Users/scotti/Library/Mobile Documents/com~apple~CloudDocs/Documents/Github/sjsisherwood/Startups/Antiverse.html')[0]\n",
    "\n",
    "with open('/Users/scotti/Library/Mobile Documents/com~apple~CloudDocs/Documents/Github/sjsisherwood/Startups/Antiverse_notion.html', 'r') as file:\n",
    "    html_content = file.read()"
   ]
  },
  {
   "cell_type": "code",
   "execution_count": 18,
   "metadata": {},
   "outputs": [],
   "source": [
    "sections_to_change = {\"border-bottom: 1px solid rgba(55, 53, 47, 0.09)\":\"border-bottom: 4px solid rgba(107, 105, 97, 0.2)\",\n",
    "                      \"\"\".block-color-gray_background {\n",
    "\tbackground: rgba(241, 241, 239, 1);\n",
    "}\n",
    ".block-color-brown_background {\n",
    "\tbackground: rgba(244, 238, 238, 1);\n",
    "}\n",
    ".block-color-orange_background {\n",
    "\tbackground: rgba(251, 236, 221, 1);\n",
    "}\n",
    ".block-color-yellow_background {\n",
    "\tbackground: rgba(251, 243, 219, 1);\n",
    "}\n",
    ".block-color-teal_background {\n",
    "\tbackground: rgba(237, 243, 236, 1);\n",
    "}\n",
    ".block-color-blue_background {\n",
    "\tbackground: rgba(231, 243, 248, 1);\n",
    "}\n",
    ".block-color-purple_background {\n",
    "\tbackground: rgba(244, 240, 247, 0.8);\n",
    "}\n",
    ".block-color-pink_background {\n",
    "\tbackground: rgba(249, 238, 243, 0.8);\n",
    "}\n",
    ".block-color-red_background {\n",
    "\tbackground: rgba(253, 235, 236, 1);\n",
    "}\"\"\": \"\"\".block-color-gray_background {\n",
    "\tbackground: rgba(225, 225, 225, 0.1); /* Subtle light gray */\n",
    "}\n",
    ".block-color-brown_background {\n",
    "\tbackground: rgba(230, 210, 190, 0.1); /* Subtle brown */\n",
    "}\n",
    ".block-color-orange_background {\n",
    "\tbackground: rgba(255, 190, 110, 0.1); /* Subtle orange */\n",
    "}\n",
    ".block-color-yellow_background {\n",
    "\tbackground: rgba(255, 245, 140, 0.1); /* Subtle yellow */\n",
    "}\n",
    ".block-color-teal_background {\n",
    "\tbackground: rgba(90, 200, 180, 0.1); /* Subtle teal */\n",
    "}\n",
    ".block-color-blue_background {\n",
    "\tbackground: rgba(100, 170, 255, 0.1); /* Subtle blue */\n",
    "}\n",
    ".block-color-purple_background {\n",
    "\tbackground: rgba(200, 100, 230, 0.1); /* Subtle purple */\n",
    "}\n",
    ".block-color-pink_background {\n",
    "\tbackground: rgba(250, 160, 190, 0.1); /* Subtle pink */\n",
    "}\n",
    ".block-color-red_background {\n",
    "\tbackground: rgba(245, 120, 110, 0.1); /* Subtle red */\n",
    "}\"\"\",\n",
    "\"\"\"body {\n",
    "\tmargin: 0;\n",
    "\tpadding: 0;\n",
    "}\n",
    "@media only screen {\n",
    "\tbody {\n",
    "\t\tmargin: 2em auto;\n",
    "\t\tmax-width: 900px;\n",
    "\t\tcolor: rgb(55, 53, 47);\n",
    "\t}\n",
    "}\"\"\":\"\"\"/* Updated body style for background color and content width */\n",
    "body {\n",
    "    background-color: #011627; /* Set page background color to #011627 */\n",
    "    color: #ffffff; /* Adjust text color for better contrast */\n",
    "    margin: 0 auto;\n",
    "    max-width: 1200px; /* Increase content width */\n",
    "    padding: 20px; /* Add padding around content */\n",
    "    line-height: 1.6; /* Improve readability */\n",
    "}\n",
    "\n",
    "@media only screen {\n",
    "\n",
    "/* Updated body style for background color and content width */\n",
    "body {\n",
    "    background-color: #011627; /* Set page background color to #011627 */\n",
    "    color: #ffffff; /* Adjust text color for better contrast */\n",
    "    margin: 0 auto;\n",
    "    max-width: 1200px; /* Increase content width */\n",
    "    padding: 20px; /* Add padding around content */\n",
    "    line-height: 1.6; /* Improve readability */\n",
    "}\n",
    "\n",
    "\t}\"\"\",\n",
    " '''details open=\"\"''': \"details\"}\n",
    "\n"
   ]
  },
  {
   "cell_type": "code",
   "execution_count": 19,
   "metadata": {},
   "outputs": [],
   "source": [
    "for key, val in sections_to_change.items():\n",
    "    html_content = html_content.replace(key,val)"
   ]
  },
  {
   "cell_type": "code",
   "execution_count": 20,
   "metadata": {},
   "outputs": [
    {
     "data": {
      "text/plain": [
       "'<html><head><meta http-equiv=\"Content-Type\" content=\"text/html; charset=utf-8\"/><title>Antiverse</title><style>\\n/* cspell:disable-file */\\n/* webkit printing magic: print all background colors */\\nhtml {\\n\\t-webkit-print-color-adjust: exact;\\n}\\n* {\\n\\tbox-sizing: border-box;\\n\\t-webkit-print-color-adjust: exact;\\n}\\n\\nhtml,\\n/* Updated body style for background color and content width */\\nbody {\\n    background-color: #011627; /* Set page background color to #011627 */\\n    color: #ffffff; /* Adjust text color for better contrast */\\n    margin: 0 auto;\\n    max-width: 1200px; /* Increase content width */\\n    padding: 20px; /* Add padding around content */\\n    line-height: 1.6; /* Improve readability */\\n}\\n\\n@media only screen {\\n\\n/* Updated body style for background color and content width */\\nbody {\\n    background-color: #011627; /* Set page background color to #011627 */\\n    color: #ffffff; /* Adjust text color for better contrast */\\n    margin: 0 auto;\\n    max-width: 1200px; /* Increase content width */\\n    padding: 20px; /* Add padding around content */\\n    line-height: 1.6; /* Improve readability */\\n}\\n\\n\\t}\\n\\nbody {\\n\\tline-height: 1.5;\\n\\twhite-space: pre-wrap;\\n}\\n\\na,\\na.visited {\\n\\tcolor: inherit;\\n\\ttext-decoration: underline;\\n}\\n\\n.pdf-relative-link-path {\\n\\tfont-size: 80%;\\n\\tcolor: #444;\\n}\\n\\nh1,\\nh2,\\nh3 {\\n\\tletter-spacing: -0.01em;\\n\\tline-height: 1.2;\\n\\tfont-weight: 600;\\n\\tmargin-bottom: 0;\\n}\\n\\n.page-title {\\n\\tfont-size: 2.5rem;\\n\\tfont-weight: 700;\\n\\tmargin-top: 0;\\n\\tmargin-bottom: 0.75em;\\n}\\n\\nh1 {\\n\\tfont-size: 1.875rem;\\n\\tmargin-top: 1.875rem;\\n}\\n\\nh2 {\\n\\tfont-size: 1.5rem;\\n\\tmargin-top: 1.5rem;\\n}\\n\\nh3 {\\n\\tfont-size: 1.25rem;\\n\\tmargin-top: 1.25rem;\\n}\\n\\n.source {\\n\\tborder: 1px solid #ddd;\\n\\tborder-radius: 3px;\\n\\tpadding: 1.5em;\\n\\tword-break: break-all;\\n}\\n\\n.callout {\\n\\tborder-radius: 3px;\\n\\tpadding: 1rem;\\n}\\n\\nfigure {\\n\\tmargin: 1.25em 0;\\n\\tpage-break-inside: avoid;\\n}\\n\\nfigcaption {\\n\\topacity: 0.5;\\n\\tfont-size: 85%;\\n\\tmargin-top: 0.5em;\\n}\\n\\nmark {\\n\\tbackground-color: transparent;\\n}\\n\\n.indented {\\n\\tpadding-left: 1.5em;\\n}\\n\\nhr {\\n\\tbackground: transparent;\\n\\tdisplay: block;\\n\\twidth: 100%;\\n\\theight: 1px;\\n\\tvisibility: visible;\\n\\tborder: none;\\n\\tborder-bottom: 4px solid rgba(107, 105, 97, 0.2);\\n}\\n\\nimg {\\n\\tmax-width: 100%;\\n}\\n\\n@media only print {\\n\\timg {\\n\\t\\tmax-height: 100vh;\\n\\t\\tobject-fit: contain;\\n\\t}\\n}\\n\\n@page {\\n\\tmargin: 1in;\\n}\\n\\n.collection-content {\\n\\tfont-size: 0.875rem;\\n}\\n\\n.column-list {\\n\\tdisplay: flex;\\n\\tjustify-content: space-between;\\n}\\n\\n.column {\\n\\tpadding: 0 1em;\\n}\\n\\n.column:first-child {\\n\\tpadding-left: 0;\\n}\\n\\n.column:last-child {\\n\\tpadding-right: 0;\\n}\\n\\n.table_of_contents-item {\\n\\tdisplay: block;\\n\\tfont-size: 0.875rem;\\n\\tline-height: 1.3;\\n\\tpadding: 0.125rem;\\n}\\n\\n.table_of_contents-indent-1 {\\n\\tmargin-left: 1.5rem;\\n}\\n\\n.table_of_contents-indent-2 {\\n\\tmargin-left: 3rem;\\n}\\n\\n.table_of_contents-indent-3 {\\n\\tmargin-left: 4.5rem;\\n}\\n\\n.table_of_contents-link {\\n\\ttext-decoration: none;\\n\\topacity: 0.7;\\n\\tborder-bottom: 1px solid rgba(55, 53, 47, 0.18);\\n}\\n\\ntable,\\nth,\\ntd {\\n\\tborder: 1px solid rgba(55, 53, 47, 0.09);\\n\\tborder-collapse: collapse;\\n}\\n\\ntable {\\n\\tborder-left: none;\\n\\tborder-right: none;\\n}\\n\\nth,\\ntd {\\n\\tfont-weight: normal;\\n\\tpadding: 0.25em 0.5em;\\n\\tline-height: 1.5;\\n\\tmin-height: 1.5em;\\n\\ttext-align: left;\\n}\\n\\nth {\\n\\tcolor: rgba(55, 53, 47, 0.6);\\n}\\n\\nol,\\nul {\\n\\tmargin: 0;\\n\\tmargin-block-start: 0.6em;\\n\\tmargin-block-end: 0.6em;\\n}\\n\\nli > ol:first-child,\\nli > ul:first-child {\\n\\tmargin-block-start: 0.6em;\\n}\\n\\nul > li {\\n\\tlist-style: disc;\\n}\\n\\nul.to-do-list {\\n\\tpadding-inline-start: 0;\\n}\\n\\nul.to-do-list > li {\\n\\tlist-style: none;\\n}\\n\\n.to-do-children-checked {\\n\\ttext-decoration: line-through;\\n\\topacity: 0.375;\\n}\\n\\nul.toggle > li {\\n\\tlist-style: none;\\n}\\n\\nul {\\n\\tpadding-inline-start: 1.7em;\\n}\\n\\nul > li {\\n\\tpadding-left: 0.1em;\\n}\\n\\nol {\\n\\tpadding-inline-start: 1.6em;\\n}\\n\\nol > li {\\n\\tpadding-left: 0.2em;\\n}\\n\\n.mono ol {\\n\\tpadding-inline-start: 2em;\\n}\\n\\n.mono ol > li {\\n\\ttext-indent: -0.4em;\\n}\\n\\n.toggle {\\n\\tpadding-inline-start: 0em;\\n\\tlist-style-type: none;\\n}\\n\\n/* Indent toggle children */\\n.toggle > li > details {\\n\\tpadding-left: 1.7em;\\n}\\n\\n.toggle > li > details > summary {\\n\\tmargin-left: -1.1em;\\n}\\n\\n.selected-value {\\n\\tdisplay: inline-block;\\n\\tpadding: 0 0.5em;\\n\\tbackground: rgba(206, 205, 202, 0.5);\\n\\tborder-radius: 3px;\\n\\tmargin-right: 0.5em;\\n\\tmargin-top: 0.3em;\\n\\tmargin-bottom: 0.3em;\\n\\twhite-space: nowrap;\\n}\\n\\n.collection-title {\\n\\tdisplay: inline-block;\\n\\tmargin-right: 1em;\\n}\\n\\n.page-description {\\n    margin-bottom: 2em;\\n}\\n\\n.simple-table {\\n\\tmargin-top: 1em;\\n\\tfont-size: 0.875rem;\\n\\tempty-cells: show;\\n}\\n.simple-table td {\\n\\theight: 29px;\\n\\tmin-width: 120px;\\n}\\n\\n.simple-table th {\\n\\theight: 29px;\\n\\tmin-width: 120px;\\n}\\n\\n.simple-table-header-color {\\n\\tbackground: rgb(247, 246, 243);\\n\\tcolor: black;\\n}\\n.simple-table-header {\\n\\tfont-weight: 500;\\n}\\n\\ntime {\\n\\topacity: 0.5;\\n}\\n\\n.icon {\\n\\tdisplay: inline-block;\\n\\tmax-width: 1.2em;\\n\\tmax-height: 1.2em;\\n\\ttext-decoration: none;\\n\\tvertical-align: text-bottom;\\n\\tmargin-right: 0.5em;\\n}\\n\\nimg.icon {\\n\\tborder-radius: 3px;\\n}\\n\\n.user-icon {\\n\\twidth: 1.5em;\\n\\theight: 1.5em;\\n\\tborder-radius: 100%;\\n\\tmargin-right: 0.5rem;\\n}\\n\\n.user-icon-inner {\\n\\tfont-size: 0.8em;\\n}\\n\\n.text-icon {\\n\\tborder: 1px solid #000;\\n\\ttext-align: center;\\n}\\n\\n.page-cover-image {\\n\\tdisplay: block;\\n\\tobject-fit: cover;\\n\\twidth: 100%;\\n\\tmax-height: 30vh;\\n}\\n\\n.page-header-icon {\\n\\tfont-size: 3rem;\\n\\tmargin-bottom: 1rem;\\n}\\n\\n.page-header-icon-with-cover {\\n\\tmargin-top: -0.72em;\\n\\tmargin-left: 0.07em;\\n}\\n\\n.page-header-icon img {\\n\\tborder-radius: 3px;\\n}\\n\\n.link-to-page {\\n\\tmargin: 1em 0;\\n\\tpadding: 0;\\n\\tborder: none;\\n\\tfont-weight: 500;\\n}\\n\\np > .user {\\n\\topacity: 0.5;\\n}\\n\\ntd > .user,\\ntd > time {\\n\\twhite-space: nowrap;\\n}\\n\\ninput[type=\"checkbox\"] {\\n\\ttransform: scale(1.5);\\n\\tmargin-right: 0.6em;\\n\\tvertical-align: middle;\\n}\\n\\np {\\n\\tmargin-top: 0.5em;\\n\\tmargin-bottom: 0.5em;\\n}\\n\\n.image {\\n\\tborder: none;\\n\\tmargin: 1.5em 0;\\n\\tpadding: 0;\\n\\tborder-radius: 0;\\n\\ttext-align: center;\\n}\\n\\n.code,\\ncode {\\n\\tbackground: rgba(135, 131, 120, 0.15);\\n\\tborder-radius: 3px;\\n\\tpadding: 0.2em 0.4em;\\n\\tborder-radius: 3px;\\n\\tfont-size: 85%;\\n\\ttab-size: 2;\\n}\\n\\ncode {\\n\\tcolor: #eb5757;\\n}\\n\\n.code {\\n\\tpadding: 1.5em 1em;\\n}\\n\\n.code-wrap {\\n\\twhite-space: pre-wrap;\\n\\tword-break: break-all;\\n}\\n\\n.code > code {\\n\\tbackground: none;\\n\\tpadding: 0;\\n\\tfont-size: 100%;\\n\\tcolor: inherit;\\n}\\n\\nblockquote {\\n\\tfont-size: 1.25em;\\n\\tmargin: 1em 0;\\n\\tpadding-left: 1em;\\n\\tborder-left: 3px solid rgb(55, 53, 47);\\n}\\n\\n.bookmark {\\n\\ttext-decoration: none;\\n\\tmax-height: 8em;\\n\\tpadding: 0;\\n\\tdisplay: flex;\\n\\twidth: 100%;\\n\\talign-items: stretch;\\n}\\n\\n.bookmark-title {\\n\\tfont-size: 0.85em;\\n\\toverflow: hidden;\\n\\ttext-overflow: ellipsis;\\n\\theight: 1.75em;\\n\\twhite-space: nowrap;\\n}\\n\\n.bookmark-text {\\n\\tdisplay: flex;\\n\\tflex-direction: column;\\n}\\n\\n.bookmark-info {\\n\\tflex: 4 1 180px;\\n\\tpadding: 12px 14px 14px;\\n\\tdisplay: flex;\\n\\tflex-direction: column;\\n\\tjustify-content: space-between;\\n}\\n\\n.bookmark-image {\\n\\twidth: 33%;\\n\\tflex: 1 1 180px;\\n\\tdisplay: block;\\n\\tposition: relative;\\n\\tobject-fit: cover;\\n\\tborder-radius: 1px;\\n}\\n\\n.bookmark-description {\\n\\tcolor: rgba(55, 53, 47, 0.6);\\n\\tfont-size: 0.75em;\\n\\toverflow: hidden;\\n\\tmax-height: 4.5em;\\n\\tword-break: break-word;\\n}\\n\\n.bookmark-href {\\n\\tfont-size: 0.75em;\\n\\tmargin-top: 0.25em;\\n}\\n\\n.sans { font-family: ui-sans-serif, -apple-system, BlinkMacSystemFont, \"Segoe UI Variable Display\", \"Segoe UI\", Helvetica, \"Apple Color Emoji\", Arial, sans-serif, \"Segoe UI Emoji\", \"Segoe UI Symbol\"; }\\n.code { font-family: \"SFMono-Regular\", Menlo, Consolas, \"PT Mono\", \"Liberation Mono\", Courier, monospace; }\\n.serif { font-family: Lyon-Text, Georgia, ui-serif, serif; }\\n.mono { font-family: iawriter-mono, Nitti, Menlo, Courier, monospace; }\\n.pdf .sans { font-family: Inter, ui-sans-serif, -apple-system, BlinkMacSystemFont, \"Segoe UI Variable Display\", \"Segoe UI\", Helvetica, \"Apple Color Emoji\", Arial, sans-serif, \"Segoe UI Emoji\", \"Segoe UI Symbol\", \\'Twemoji\\', \\'Noto Color Emoji\\', \\'Noto Sans CJK JP\\'; }\\n.pdf:lang(zh-CN) .sans { font-family: Inter, ui-sans-serif, -apple-system, BlinkMacSystemFont, \"Segoe UI Variable Display\", \"Segoe UI\", Helvetica, \"Apple Color Emoji\", Arial, sans-serif, \"Segoe UI Emoji\", \"Segoe UI Symbol\", \\'Twemoji\\', \\'Noto Color Emoji\\', \\'Noto Sans CJK SC\\'; }\\n.pdf:lang(zh-TW) .sans { font-family: Inter, ui-sans-serif, -apple-system, BlinkMacSystemFont, \"Segoe UI Variable Display\", \"Segoe UI\", Helvetica, \"Apple Color Emoji\", Arial, sans-serif, \"Segoe UI Emoji\", \"Segoe UI Symbol\", \\'Twemoji\\', \\'Noto Color Emoji\\', \\'Noto Sans CJK TC\\'; }\\n.pdf:lang(ko-KR) .sans { font-family: Inter, ui-sans-serif, -apple-system, BlinkMacSystemFont, \"Segoe UI Variable Display\", \"Segoe UI\", Helvetica, \"Apple Color Emoji\", Arial, sans-serif, \"Segoe UI Emoji\", \"Segoe UI Symbol\", \\'Twemoji\\', \\'Noto Color Emoji\\', \\'Noto Sans CJK KR\\'; }\\n.pdf .code { font-family: Source Code Pro, \"SFMono-Regular\", Menlo, Consolas, \"PT Mono\", \"Liberation Mono\", Courier, monospace, \\'Twemoji\\', \\'Noto Color Emoji\\', \\'Noto Sans Mono CJK JP\\'; }\\n.pdf:lang(zh-CN) .code { font-family: Source Code Pro, \"SFMono-Regular\", Menlo, Consolas, \"PT Mono\", \"Liberation Mono\", Courier, monospace, \\'Twemoji\\', \\'Noto Color Emoji\\', \\'Noto Sans Mono CJK SC\\'; }\\n.pdf:lang(zh-TW) .code { font-family: Source Code Pro, \"SFMono-Regular\", Menlo, Consolas, \"PT Mono\", \"Liberation Mono\", Courier, monospace, \\'Twemoji\\', \\'Noto Color Emoji\\', \\'Noto Sans Mono CJK TC\\'; }\\n.pdf:lang(ko-KR) .code { font-family: Source Code Pro, \"SFMono-Regular\", Menlo, Consolas, \"PT Mono\", \"Liberation Mono\", Courier, monospace, \\'Twemoji\\', \\'Noto Color Emoji\\', \\'Noto Sans Mono CJK KR\\'; }\\n.pdf .serif { font-family: PT Serif, Lyon-Text, Georgia, ui-serif, serif, \\'Twemoji\\', \\'Noto Color Emoji\\', \\'Noto Serif CJK JP\\'; }\\n.pdf:lang(zh-CN) .serif { font-family: PT Serif, Lyon-Text, Georgia, ui-serif, serif, \\'Twemoji\\', \\'Noto Color Emoji\\', \\'Noto Serif CJK SC\\'; }\\n.pdf:lang(zh-TW) .serif { font-family: PT Serif, Lyon-Text, Georgia, ui-serif, serif, \\'Twemoji\\', \\'Noto Color Emoji\\', \\'Noto Serif CJK TC\\'; }\\n.pdf:lang(ko-KR) .serif { font-family: PT Serif, Lyon-Text, Georgia, ui-serif, serif, \\'Twemoji\\', \\'Noto Color Emoji\\', \\'Noto Serif CJK KR\\'; }\\n.pdf .mono { font-family: PT Mono, iawriter-mono, Nitti, Menlo, Courier, monospace, \\'Twemoji\\', \\'Noto Color Emoji\\', \\'Noto Sans Mono CJK JP\\'; }\\n.pdf:lang(zh-CN) .mono { font-family: PT Mono, iawriter-mono, Nitti, Menlo, Courier, monospace, \\'Twemoji\\', \\'Noto Color Emoji\\', \\'Noto Sans Mono CJK SC\\'; }\\n.pdf:lang(zh-TW) .mono { font-family: PT Mono, iawriter-mono, Nitti, Menlo, Courier, monospace, \\'Twemoji\\', \\'Noto Color Emoji\\', \\'Noto Sans Mono CJK TC\\'; }\\n.pdf:lang(ko-KR) .mono { font-family: PT Mono, iawriter-mono, Nitti, Menlo, Courier, monospace, \\'Twemoji\\', \\'Noto Color Emoji\\', \\'Noto Sans Mono CJK KR\\'; }\\n.highlight-default {\\n\\tcolor: rgba(55, 53, 47, 1);\\n}\\n.highlight-gray {\\n\\tcolor: rgba(120, 119, 116, 1);\\n\\tfill: rgba(120, 119, 116, 1);\\n}\\n.highlight-brown {\\n\\tcolor: rgba(159, 107, 83, 1);\\n\\tfill: rgba(159, 107, 83, 1);\\n}\\n.highlight-orange {\\n\\tcolor: rgba(217, 115, 13, 1);\\n\\tfill: rgba(217, 115, 13, 1);\\n}\\n.highlight-yellow {\\n\\tcolor: rgba(203, 145, 47, 1);\\n\\tfill: rgba(203, 145, 47, 1);\\n}\\n.highlight-teal {\\n\\tcolor: rgba(68, 131, 97, 1);\\n\\tfill: rgba(68, 131, 97, 1);\\n}\\n.highlight-blue {\\n\\tcolor: rgba(51, 126, 169, 1);\\n\\tfill: rgba(51, 126, 169, 1);\\n}\\n.highlight-purple {\\n\\tcolor: rgba(144, 101, 176, 1);\\n\\tfill: rgba(144, 101, 176, 1);\\n}\\n.highlight-pink {\\n\\tcolor: rgba(193, 76, 138, 1);\\n\\tfill: rgba(193, 76, 138, 1);\\n}\\n.highlight-red {\\n\\tcolor: rgba(212, 76, 71, 1);\\n\\tfill: rgba(212, 76, 71, 1);\\n}\\n.highlight-default_background {\\n\\tcolor: rgba(55, 53, 47, 1);\\n}\\n.highlight-gray_background {\\n\\tbackground: rgba(241, 241, 239, 1);\\n}\\n.highlight-brown_background {\\n\\tbackground: rgba(244, 238, 238, 1);\\n}\\n.highlight-orange_background {\\n\\tbackground: rgba(251, 236, 221, 1);\\n}\\n.highlight-yellow_background {\\n\\tbackground: rgba(251, 243, 219, 1);\\n}\\n.highlight-teal_background {\\n\\tbackground: rgba(237, 243, 236, 1);\\n}\\n.highlight-blue_background {\\n\\tbackground: rgba(231, 243, 248, 1);\\n}\\n.highlight-purple_background {\\n\\tbackground: rgba(244, 240, 247, 0.8);\\n}\\n.highlight-pink_background {\\n\\tbackground: rgba(249, 238, 243, 0.8);\\n}\\n.highlight-red_background {\\n\\tbackground: rgba(253, 235, 236, 1);\\n}\\n.block-color-default {\\n\\tcolor: inherit;\\n\\tfill: inherit;\\n}\\n.block-color-gray {\\n\\tcolor: rgba(120, 119, 116, 1);\\n\\tfill: rgba(120, 119, 116, 1);\\n}\\n.block-color-brown {\\n\\tcolor: rgba(159, 107, 83, 1);\\n\\tfill: rgba(159, 107, 83, 1);\\n}\\n.block-color-orange {\\n\\tcolor: rgba(217, 115, 13, 1);\\n\\tfill: rgba(217, 115, 13, 1);\\n}\\n.block-color-yellow {\\n\\tcolor: rgba(203, 145, 47, 1);\\n\\tfill: rgba(203, 145, 47, 1);\\n}\\n.block-color-teal {\\n\\tcolor: rgba(68, 131, 97, 1);\\n\\tfill: rgba(68, 131, 97, 1);\\n}\\n.block-color-blue {\\n\\tcolor: rgba(51, 126, 169, 1);\\n\\tfill: rgba(51, 126, 169, 1);\\n}\\n.block-color-purple {\\n\\tcolor: rgba(144, 101, 176, 1);\\n\\tfill: rgba(144, 101, 176, 1);\\n}\\n.block-color-pink {\\n\\tcolor: rgba(193, 76, 138, 1);\\n\\tfill: rgba(193, 76, 138, 1);\\n}\\n.block-color-red {\\n\\tcolor: rgba(212, 76, 71, 1);\\n\\tfill: rgba(212, 76, 71, 1);\\n}\\n.block-color-default_background {\\n\\tcolor: inherit;\\n\\tfill: inherit;\\n}\\n.block-color-gray_background {\\n\\tbackground: rgba(225, 225, 225, 0.1); /* Subtle light gray */\\n}\\n.block-color-brown_background {\\n\\tbackground: rgba(230, 210, 190, 0.1); /* Subtle brown */\\n}\\n.block-color-orange_background {\\n\\tbackground: rgba(255, 190, 110, 0.1); /* Subtle orange */\\n}\\n.block-color-yellow_background {\\n\\tbackground: rgba(255, 245, 140, 0.1); /* Subtle yellow */\\n}\\n.block-color-teal_background {\\n\\tbackground: rgba(90, 200, 180, 0.1); /* Subtle teal */\\n}\\n.block-color-blue_background {\\n\\tbackground: rgba(100, 170, 255, 0.1); /* Subtle blue */\\n}\\n.block-color-purple_background {\\n\\tbackground: rgba(200, 100, 230, 0.1); /* Subtle purple */\\n}\\n.block-color-pink_background {\\n\\tbackground: rgba(250, 160, 190, 0.1); /* Subtle pink */\\n}\\n.block-color-red_background {\\n\\tbackground: rgba(245, 120, 110, 0.1); /* Subtle red */\\n}\\n.select-value-color-uiBlue { background-color: rgba(35, 131, 226, .07); }\\n.select-value-color-pink { background-color: rgba(245, 224, 233, 1); }\\n.select-value-color-purple { background-color: rgba(232, 222, 238, 1); }\\n.select-value-color-green { background-color: rgba(219, 237, 219, 1); }\\n.select-value-color-gray { background-color: rgba(227, 226, 224, 1); }\\n.select-value-color-transparentGray { background-color: rgba(227, 226, 224, 0); }\\n.select-value-color-translucentGray { background-color: rgba(0, 0, 0, 0.06); }\\n.select-value-color-orange { background-color: rgba(250, 222, 201, 1); }\\n.select-value-color-brown { background-color: rgba(238, 224, 218, 1); }\\n.select-value-color-red { background-color: rgba(255, 226, 221, 1); }\\n.select-value-color-yellow { background-color: rgba(253, 236, 200, 1); }\\n.select-value-color-blue { background-color: rgba(211, 229, 239, 1); }\\n.select-value-color-pageGlass { background-color: undefined; }\\n.select-value-color-washGlass { background-color: undefined; }\\n\\n.checkbox {\\n\\tdisplay: inline-flex;\\n\\tvertical-align: text-bottom;\\n\\twidth: 16;\\n\\theight: 16;\\n\\tbackground-size: 16px;\\n\\tmargin-left: 2px;\\n\\tmargin-right: 5px;\\n}\\n\\n.checkbox-on {\\n\\tbackground-image: url(\"data:image/svg+xml;charset=UTF-8,%3Csvg%20width%3D%2216%22%20height%3D%2216%22%20viewBox%3D%220%200%2016%2016%22%20fill%3D%22none%22%20xmlns%3D%22http%3A%2F%2Fwww.w3.org%2F2000%2Fsvg%22%3E%0A%3Crect%20width%3D%2216%22%20height%3D%2216%22%20fill%3D%22%2358A9D7%22%2F%3E%0A%3Cpath%20d%3D%22M6.71429%2012.2852L14%204.9995L12.7143%203.71436L6.71429%209.71378L3.28571%206.2831L2%207.57092L6.71429%2012.2852Z%22%20fill%3D%22white%22%2F%3E%0A%3C%2Fsvg%3E\");\\n}\\n\\n.checkbox-off {\\n\\tbackground-image: url(\"data:image/svg+xml;charset=UTF-8,%3Csvg%20width%3D%2216%22%20height%3D%2216%22%20viewBox%3D%220%200%2016%2016%22%20fill%3D%22none%22%20xmlns%3D%22http%3A%2F%2Fwww.w3.org%2F2000%2Fsvg%22%3E%0A%3Crect%20x%3D%220.75%22%20y%3D%220.75%22%20width%3D%2214.5%22%20height%3D%2214.5%22%20fill%3D%22white%22%20stroke%3D%22%2336352F%22%20stroke-width%3D%221.5%22%2F%3E%0A%3C%2Fsvg%3E\");\\n}\\n\\t\\n</style></head><body><article id=\"1544d29a-341b-807f-9942-cba44da71be8\" class=\"page sans\"><header><div class=\"page-header-icon undefined\"><img class=\"icon\" src=\"https://www.notion.so/icons/city_gray.svg\"/></div><h1 class=\"page-title\">Antiverse</h1><p class=\"page-description\"></p></header><div class=\"page-body\"><figure class=\"block-color-default callout\" style=\"white-space:pre-wrap;display:flex\" id=\"1544d29a-341b-811b-90f1-c1f23766fcf6\"><div style=\"font-size:1.5em\"><img class=\"icon\" src=\"https://www.notion.so/icons/city_gray.svg\"/></div><div style=\"width:100%\"><strong>Company Information</strong><p id=\"1544d29a-341b-8174-867a-d02d0ef7ab97\" class=\"\">Antiverse uses AI-driven antibody discovery to accelerate the development of therapeutics targeting challenging proteins, such as GPCRs and ion channels, for pharmaceutical and biotechnology companies.</p></div></figure><hr id=\"1544d29a-341b-81ce-8301-f6b4c7d50275\"/><blockquote id=\"1544d29a-341b-8120-bb8b-cd67a6647d29\" class=\"\">We use the Business Model Canvas (BMC), which captures what the startups offers, how it reaches its customers and how profitable it could be.</blockquote><div id=\"1544d29a-341b-8144-a17c-e19cec147614\" class=\"column-list\"><div id=\"1544d29a-341b-81c2-b3ca-d7807df40dda\" style=\"width:100%\" class=\"column\"><figure class=\"block-color-gray_background callout\" style=\"white-space:pre-wrap;display:flex\" id=\"1544d29a-341b-81c3-89c3-fc5f874e5822\"><div style=\"font-size:1.5em\"><img class=\"icon\" src=\"https://www.notion.so/icons/sharing_gray.svg\"/></div><div style=\"width:100%\"><strong>Key Partnerships</strong><p id=\"1544d29a-341b-8191-8243-f309f0c77bda\" class=\"\">What strategic collaborations do they have, and how do these enhance the company’s capabilities or reduce risk, etc.</p><ul id=\"1544d29a-341b-8187-b0cd-d33f43c13308\" class=\"bulleted-list\"><li style=\"list-style-type:disc\"><strong>Companies: </strong>GlobalBio, Inc.</li></ul><ul id=\"1544d29a-341b-81ca-aa0b-ceca68b01f07\" class=\"bulleted-list\"><li style=\"list-style-type:disc\"><strong>Investors</strong>: Secures funding from i&amp;i Biotech Fund I, Kadmos Capital.</li></ul><ul id=\"1544d29a-341b-8162-a0e2-d395d8712dbb\" class=\"bulleted-list\"><li style=\"list-style-type:disc\"><strong>Academic Institutions</strong>: Cardiff University</li></ul></div></figure><figure class=\"block-color-teal_background callout\" style=\"white-space:pre-wrap;display:flex\" id=\"1544d29a-341b-8133-811c-efa09fbc449f\"><div style=\"font-size:1.5em\"><img class=\"icon\" src=\"https://www.notion.so/icons/gym_gray.svg\"/></div><div style=\"width:100%\"><strong>Key Activities</strong><p id=\"1544d29a-341b-81d7-a61c-cd7c7167fd29\" class=\"\">How are they creating value, improving relationships with customers, increasing operational efficiency, etc.</p><ul id=\"1544d29a-341b-812e-af2a-d1a6e4a64344\" class=\"bulleted-list\"><li style=\"list-style-type:disc\">Value: Develops de novo antibodies for challenging targets.</li></ul><ul id=\"1544d29a-341b-81e3-9e03-f0150ae561b7\" class=\"bulleted-list\"><li style=\"list-style-type:disc\">Method: Enhances the AI-driven platform for improved predictive accuracy.</li></ul><ul id=\"1544d29a-341b-8154-a567-c49375d6db77\" class=\"bulleted-list\"><li style=\"list-style-type:disc\">Relatinships: Collaborates with pharmaceutical and biotech companies.</li></ul></div></figure><figure class=\"block-color-yellow_background callout\" style=\"white-space:pre-wrap;display:flex\" id=\"1544d29a-341b-81ce-93c4-fa95a89bc6f8\"><div style=\"font-size:1.5em\"><img class=\"icon\" src=\"https://www.notion.so/icons/pin_gray.svg\"/></div><div style=\"width:100%\"><strong>Key Resources</strong><p id=\"1544d29a-341b-8133-9c91-ddb2d1eaec79\" class=\"\">What resources/assets do they need to deliver value.</p><ul id=\"1544d29a-341b-8092-ae7f-e72a1ede461c\" class=\"bulleted-list\"><li style=\"list-style-type:disc\">Resources: Energy, combines machine learning with cell-free protein synthesis for antibody prediction.</li></ul><ul id=\"1544d29a-341b-80eb-8698-df43ee3a8c29\" class=\"bulleted-list\"><li style=\"list-style-type:disc\">Assets: Operates state-of-the-art labs in Cardiff, with additional facilities in Boston and Prague.</li></ul><ul id=\"1544d29a-341b-80b8-9036-ff4725be1cc8\" class=\"bulleted-list\"><li style=\"list-style-type:disc\">Team: Specialists in structural biology, machine learning, and medicine.</li></ul></div></figure><figure class=\"block-color-blue_background callout\" style=\"white-space:pre-wrap;display:flex\" id=\"1544d29a-341b-81eb-9aea-c3b2818d7258\"><div style=\"font-size:1.5em\"><img class=\"icon\" src=\"https://www.notion.so/icons/gem_gray.svg\"/></div><div style=\"width:100%\"><strong>Value Proposition</strong><p id=\"1544d29a-341b-813a-b80c-e2067f62d6fc\" class=\"\">What are they offering, how are they meeting customers needs, how are they differentiable from competition, etc.</p><ul id=\"1544d29a-341b-8120-ad12-dcea7b331b5a\" class=\"bulleted-list\"><li style=\"list-style-type:disc\"><strong>Offer: </strong>Acceleration of antibody discovery<strong>,</strong> reduces discovery timelines to approximately six months.</li></ul><ul id=\"1544d29a-341b-8179-9455-dfa5378e49d1\" class=\"bulleted-list\"><li style=\"list-style-type:disc\"><strong>Customer needs</strong>: Enhances predictive accuracy &amp; precision of antibody-antigen binding predictions.</li></ul><ul id=\"1544d29a-341b-81d9-bbf9-d64dda47e587\" class=\"bulleted-list\"><li style=\"list-style-type:disc\"><strong>Differentiation: </strong>Focuses on antibodies for difficult targets like G-protein coupled receptors (GPCRs) and ion channels that is a niche in the field and relatively unmet.</li></ul></div></figure></div><div id=\"1544d29a-341b-8163-bd92-c8c4de021a2e\" style=\"width:100%\" class=\"column\"><figure class=\"block-color-purple_background callout\" style=\"white-space:pre-wrap;display:flex\" id=\"1544d29a-341b-81c4-92fb-f78ae570f34d\"><div style=\"font-size:1.5em\"><img class=\"icon\" src=\"https://www.notion.so/icons/heart_gray.svg\"/></div><div style=\"width:100%\"><strong>Customer relationships</strong><p id=\"1544d29a-341b-81cf-8e17-d0d7869e6933\" class=\"\">How will they build loyalty, maintain good relationships, what kind of relationships do we expect, etc.</p><ul id=\"1544d29a-341b-81f8-806b-c441ab45e5ef\" class=\"bulleted-list\"><li style=\"list-style-type:disc\"><strong>Needs: </strong>Works closely/collaboratively with clients to tailor antibody discovery programs to specific needs.</li></ul><ul id=\"1544d29a-341b-811b-8eb4-debc4b4c769a\" class=\"bulleted-list\"><li style=\"list-style-type:disc\"><strong>Support</strong>: Offers ongoing assistance throughout the drug discovery process.</li></ul><ul id=\"1544d29a-341b-81e6-ab0f-ffe89ae7398e\" class=\"bulleted-list\"><li style=\"list-style-type:disc\"><strong>Opportunities</strong>: Engages in joint development projects to advance therapeutic candidates.</li></ul></div></figure><figure class=\"block-color-orange_background callout\" style=\"white-space:pre-wrap;display:flex\" id=\"1544d29a-341b-81be-afa9-d8cb9ad2d862\"><div style=\"font-size:1.5em\"><img class=\"icon\" src=\"https://www.notion.so/icons/megaphone_gray.svg\"/></div><div style=\"width:100%\"><strong>Channels</strong><p id=\"1544d29a-341b-81f0-9c33-d81458f991e2\" class=\"\">How will they reach their customers, how is their cost efficiency, customer acquisition, and retention, how will they distribute, etc.</p><ul id=\"1544d29a-341b-8177-9ec0-ece8625b1186\" class=\"bulleted-list\"><li style=\"list-style-type:disc\"><strong>Sales</strong>: Engages directly with pharmaceutical and biotech companies for partnerships and collaborations.</li></ul><ul id=\"1544d29a-341b-81c3-9955-f519d416b266\" class=\"bulleted-list\"><li style=\"list-style-type:disc\"><strong>Online</strong>: Provides information and updates through the company website and digital platforms.</li></ul><ul id=\"1544d29a-341b-81d6-86c0-cf1c6b6b2830\" class=\"bulleted-list\"><li style=\"list-style-type:disc\"><strong>Events</strong>: Participates in conferences and seminars to showcase technology and network with potential clients.</li></ul></div></figure><figure class=\"block-color-gray_background callout\" style=\"white-space:pre-wrap;display:flex\" id=\"1544d29a-341b-81d8-baee-e75f70989650\"><div style=\"font-size:1.5em\"><img class=\"icon\" src=\"https://www.notion.so/icons/groups_gray.svg\"/></div><div style=\"width:100%\"><strong>Customer Segments</strong><p id=\"1544d29a-341b-81db-8f9c-d285ea9f31b1\" class=\"\">Who are they serving, what is the target market, market size, etc. </p><ul id=\"1544d29a-341b-818f-8f6b-d7972ae1722e\" class=\"bulleted-list\"><li style=\"list-style-type:disc\"><strong>Targets: </strong>Pharmaceutical Companies that seek to accelerate drug discovery and development processes, biotechnology firms that <strong>n</strong>eed advanced antibody design for challenging targets, Contract Research Organizations (CROs) that offer services in antibody discovery and development.</li></ul></div></figure><p id=\"1544d29a-341b-8090-bd2d-e0258c9be8f0\" class=\"\">\\n</p></div></div><hr id=\"1544d29a-341b-8124-a5c0-fe0eabf851e1\"/><div id=\"1544d29a-341b-81d5-bb6c-ef58bc1edd0f\" class=\"column-list\"><div id=\"1544d29a-341b-81df-a27d-d3d642d517a4\" style=\"width:100%\" class=\"column\"><figure class=\"block-color-pink_background callout\" style=\"white-space:pre-wrap;display:flex\" id=\"1544d29a-341b-8174-a550-fbb36a9bfcd2\"><div style=\"font-size:1.5em\"><img class=\"icon\" src=\"https://www.notion.so/icons/clipping_gray.svg\"/></div><div style=\"width:100%\"><strong>Cost Structure</strong><p id=\"1544d29a-341b-8144-948c-dda79d5a1eac\" class=\"\">What are the major fixed and variable costs.</p><ul id=\"1544d29a-341b-8182-8197-d4135149c94d\" class=\"bulleted-list\"><li style=\"list-style-type:disc\">Variable: Materials for antibody production, consumables, energy consumption (AI-heavy), marketing.</li></ul><ul id=\"1544d29a-341b-8035-95a0-d83b722df67e\" class=\"bulleted-list\"><li style=\"list-style-type:disc\">Fixed: Salaries, lease of lab facilities, subscriptions.</li></ul></div></figure></div><div id=\"1544d29a-341b-81fb-8ecc-ccf6c4b88be4\" style=\"width:100%\" class=\"column\"><figure class=\"block-color-teal_background callout\" style=\"white-space:pre-wrap;display:flex\" id=\"1544d29a-341b-81fe-beb0-ded617834feb\"><div style=\"font-size:1.5em\"><img class=\"icon\" src=\"https://www.notion.so/icons/cash_gray.svg\"/></div><div style=\"width:100%\"><strong>Revenue Streams</strong><p id=\"1544d29a-341b-810a-be85-cc8247f3539e\" class=\"\">how will they make money, what is the pricing structure, any additional/creative revenue streams, etc.</p><ul id=\"1544d29a-341b-81a0-ac48-f3ebdf917b92\" class=\"bulleted-list\"><li style=\"list-style-type:disc\"><strong>Service</strong>: Charges for antibody discovery and design services.</li></ul><ul id=\"1544d29a-341b-813d-a612-ec27da52880f\" class=\"bulleted-list\"><li style=\"list-style-type:disc\"><strong>Recurring: </strong>Licensing Agreements, earns revenue from licensing proprietary antibodies or technology.</li></ul><ul id=\"1544d29a-341b-8193-b5c0-cb04e7af8c12\" class=\"bulleted-list\"><li style=\"list-style-type:disc\"><strong>Payments</strong>: Receives payments upon achieving specific development milestones in partnerships.</li></ul></div></figure></div></div><hr id=\"1544d29a-341b-8160-b45f-eccb1049b2c0\"/><blockquote id=\"1544d29a-341b-815c-8217-eb275bce5711\" class=\"\">We use Porter’s five forces to evaluate the company’s competitive position and dynamics of the market and any external pressures</blockquote><figure class=\"block-color-default_background callout\" style=\"white-space:pre-wrap;display:flex\" id=\"1544d29a-341b-81df-86c6-ea6738e2c527\"><div style=\"font-size:1.5em\"><img class=\"icon\" src=\"https://www.notion.so/icons/activity_gray.svg\"/></div><div style=\"width:100%\"><h3 id=\"1544d29a-341b-8113-af25-e7b97f7271ab\" class=\"\">1. Threat of New Entrants</h3><h3 id=\"1544d29a-341b-8122-bc8e-d506ee6a9ef6\" class=\"\"><mark class=\"highlight-teal_background\">➕</mark></h3><ul id=\"1544d29a-341b-8102-843a-e5a2c9416b77\" class=\"bulleted-list\"><li style=\"list-style-type:disc\">Antiverse’s AI platform requires specialised expertise in machine learning and structural biology.</li></ul><ul id=\"1544d29a-341b-8165-9fcd-e650e77229b5\" class=\"bulleted-list\"><li style=\"list-style-type:disc\">Existing collaborations (GlobalBio) is positive for its reputation and may act as a barrier to entry.</li></ul><ul id=\"1544d29a-341b-8158-98b5-e6814fae88e2\" class=\"bulleted-list\"><li style=\"list-style-type:disc\">IP and growing datasets reduce the risk of competitors developing similar solutions.</li></ul><p id=\"1544d29a-341b-8112-9384-c44cf893ace6\" class=\"\"><mark class=\"highlight-red_background\">➖</mark></p><ul id=\"1544d29a-341b-818e-bc8e-f050c24f9bc8\" class=\"bulleted-list\"><li style=\"list-style-type:disc\">Open-source AI frameworks and widely available computational resources make it easier for new startups to at least attempt entering.</li></ul><ul id=\"1544d29a-341b-81d5-960e-dd6f86fc4f1d\" class=\"bulleted-list\"><li style=\"list-style-type:disc\">Young company, Antiverse has e.g. limited brand recognition.</li></ul><h3 id=\"1544d29a-341b-81bc-8b50-dfc56a3b6254\" class=\"\">2. Threat of Substitutes</h3><h3 id=\"1544d29a-341b-817d-8217-ff781d96bd38\" class=\"\"><mark class=\"highlight-teal_background\">➕</mark></h3><ul id=\"1544d29a-341b-81ce-912d-c95dcdea0b6f\" class=\"bulleted-list\"><li style=\"list-style-type:disc\">Faster and more cost-effective antibody discovery than traditional methods.</li></ul><ul id=\"1544d29a-341b-8167-9884-d2c4a1c3aca4\" class=\"bulleted-list\"><li style=\"list-style-type:disc\">Unique in that they are targetting challenging proteins that traditional approaches cannot.</li></ul><p id=\"1544d29a-341b-8124-a4b8-e352c782fdda\" class=\"\"><mark class=\"highlight-red_background\">➖</mark></p><ul id=\"1544d29a-341b-813d-9f4c-d63bbfe35032\" class=\"bulleted-list\"><li style=\"list-style-type:disc\">There is competition from other modalities of therapeutics (e.g. RNA-based therapies or small molecules).</li></ul><ul id=\"1544d29a-341b-81fb-be89-c1c052191f00\" class=\"bulleted-list\"><li style=\"list-style-type:disc\">There is always the chance that bigger AI companies (Anthropic, OpenAI etc) will produce an update that renders this obscelete.</li></ul><h3 id=\"1544d29a-341b-81e0-b4a4-f90890c4ecb9\" class=\"\">3. Bargaining Power of Suppliers</h3><h3 id=\"1544d29a-341b-8111-92e3-f8d9536ba2e9\" class=\"\"><mark class=\"highlight-teal_background\">➕</mark></h3><ul id=\"1544d29a-341b-815a-b49b-c9486dc9107a\" class=\"bulleted-list\"><li style=\"list-style-type:disc\">Has in-house expertise so probably will not need external technical resources.</li></ul><ul id=\"1544d29a-341b-8155-95a1-fa6f5138bac7\" class=\"bulleted-list\"><li style=\"list-style-type:disc\">Easily adaptable platform.</li></ul><p id=\"1544d29a-341b-8168-ac66-eadb6d68d9e5\" class=\"\"><mark class=\"highlight-red_background\">➖</mark></p><ul id=\"1544d29a-341b-815b-bb2a-c78c43e81faf\" class=\"bulleted-list\"><li style=\"list-style-type:disc\">Access to high-quality training data is paramount, and any limitation in availability or rising costs could be a problem.</li></ul><ul id=\"1544d29a-341b-81bd-b741-c7578f9bb42d\" class=\"bulleted-list\"><li style=\"list-style-type:disc\">It is becoming harder and harder to get AI and biotechnology experts as they are in high demand.</li></ul><ul id=\"1544d29a-341b-811d-b878-fd24e1374dc4\" class=\"bulleted-list\"><li style=\"list-style-type:disc\">Slgiht dependence on specialised lab equipment.</li></ul><h3 id=\"1544d29a-341b-8126-a1dc-d2fb651edef3\" class=\"\">4. Bargaining Power of Buyers</h3><h3 id=\"1544d29a-341b-81ca-9d5a-fa44cd02fc13\" class=\"\"><mark class=\"highlight-teal_background\">➕</mark></h3><ul id=\"1544d29a-341b-8181-89a3-fd9f7c73375d\" class=\"bulleted-list\"><li style=\"list-style-type:disc\">Minimal competition at the moment.</li></ul><ul id=\"1544d29a-341b-81d2-ab6a-c701f116b37a\" class=\"bulleted-list\"><li style=\"list-style-type:disc\">Fast/accurate approach is preferable over conventional methods.</li></ul><p id=\"1544d29a-341b-81e3-bcbf-f63778335763\" class=\"\"><mark class=\"highlight-red_background\">➖</mark></p><ul id=\"1544d29a-341b-8195-81b2-c16782d41e85\" class=\"bulleted-list\"><li style=\"list-style-type:disc\">Pharmaceutical companies have a lot of power in the sector.</li></ul><ul id=\"1544d29a-341b-811a-bda9-e34e4eba8b99\" class=\"bulleted-list\"><li style=\"list-style-type:disc\">Customer base is small and a niche.</li></ul><h3 id=\"1544d29a-341b-81cc-afd7-cf65e5590787\" class=\"\">5. Intensity of Current Competition</h3><h3 id=\"1544d29a-341b-8141-a1f0-d52be502c5a1\" class=\"\"><mark class=\"highlight-teal_background\">➕</mark></h3><ul id=\"1544d29a-341b-816b-9144-d05edb19c366\" class=\"bulleted-list\"><li style=\"list-style-type:disc\">The focus on difficult-to-target proteins makes competition less intense.</li></ul><ul id=\"1544d29a-341b-8121-8294-e266d938990e\" class=\"bulleted-list\"><li style=\"list-style-type:disc\">If they keep and increase current partnerships with investors and pharma companies they can create credibility before other competition enters.</li></ul><p id=\"1544d29a-341b-8169-a85b-e8dc98aa7400\" class=\"\"><mark class=\"highlight-red_background\">➖</mark></p><ul id=\"1544d29a-341b-81b8-b9fb-ecc1cf2b495e\" class=\"bulleted-list\"><li style=\"list-style-type:disc\">The overall antibody discovery market is crowded (e.g., AbCellera, Adimab)</li></ul><ul id=\"1544d29a-341b-816b-ac81-ee82ac966bec\" class=\"bulleted-list\"><li style=\"list-style-type:disc\">Larger competition has the benefit of predatory pricing and can gate keep the market.</li></ul><p id=\"1544d29a-341b-81f3-a08e-f804175f0cd4\" class=\"\">\\n</p></div></figure><hr id=\"1544d29a-341b-8171-a4b8-d31208e5c9da\"/><figure class=\"block-color-default callout\" style=\"white-space:pre-wrap;display:flex\" id=\"1544d29a-341b-81f5-8209-ccee570acde7\"><div style=\"font-size:1.5em\"><img class=\"icon\" src=\"https://www.notion.so/icons/book-closed_gray.svg\"/></div><div style=\"width:100%\"><strong>Resources</strong><ul id=\"1544d29a-341b-81de-b39c-e6a9d6caf341\" class=\"toggle\"><li><details><summary>Website</summary><p id=\"1544d29a-341b-8129-b3c1-e72781b38f42\" class=\"\"><a href=\"https://www.antiverse.io/\">https://www.antiverse.io/</a></p></details></li></ul><p id=\"1544d29a-341b-81e8-ae40-e16e2196c9ba\" class=\"\">\\n</p></div></figure><p id=\"1544d29a-341b-8177-aceb-f3c71fd15f9f\" class=\"\">\\n</p><p id=\"1544d29a-341b-812f-962b-d91a2857fe15\" class=\"\">\\n</p><p id=\"1544d29a-341b-8135-985b-d3ac57c7ffda\" class=\"\">\\n</p><p id=\"1544d29a-341b-811a-a80c-f3d1439e4288\" class=\"\">\\n</p></div></article><span class=\"sans\" style=\"font-size:14px;padding-top:2em\"></span></body></html>'"
      ]
     },
     "execution_count": 20,
     "metadata": {},
     "output_type": "execute_result"
    }
   ],
   "source": [
    "html_content"
   ]
  },
  {
   "cell_type": "code",
   "execution_count": null,
   "metadata": {},
   "outputs": [],
   "source": [
    "with open('/Users/scotti/Library/Mobile Documents/com~apple~CloudDocs/Documents/Github/sjsisherwood/Startups/Antiverse.html', 'w') as file:\n",
    "    file.write(html_content)"
   ]
  },
  {
   "cell_type": "code",
   "execution_count": 20,
   "metadata": {},
   "outputs": [
    {
     "data": {
      "text/plain": [
       "dict_keys(['hr {\\n\\tbackground: transparent;\\n\\tdisplay: block;\\n\\twidth: 100%;\\n\\theight: 1px;\\n\\tvisibility: visible;\\n\\tborder: none;\\n\\tborder-bottom: 1px solid rgba(55, 53, 47, 0.09);\\n    }'])"
      ]
     },
     "execution_count": 20,
     "metadata": {},
     "output_type": "execute_result"
    }
   ],
   "source": [
    "sections_to_change.keys()"
   ]
  },
  {
   "cell_type": "code",
   "execution_count": null,
   "metadata": {},
   "outputs": [],
   "source": []
  }
 ],
 "metadata": {
  "kernelspec": {
   "display_name": "finMod",
   "language": "python",
   "name": "python3"
  },
  "language_info": {
   "codemirror_mode": {
    "name": "ipython",
    "version": 3
   },
   "file_extension": ".py",
   "mimetype": "text/x-python",
   "name": "python",
   "nbconvert_exporter": "python",
   "pygments_lexer": "ipython3",
   "version": "3.9.20"
  }
 },
 "nbformat": 4,
 "nbformat_minor": 2
}
